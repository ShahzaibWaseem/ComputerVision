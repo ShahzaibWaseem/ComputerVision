{
 "cells": [
  {
   "cell_type": "markdown",
   "metadata": {
    "id": "QHnVupBBn9eR"
   },
   "source": [
    "\n",
    "# Assignment 3\n",
    "\n",
    "This is a template notebook for Assignment 3.\n"
   ]
  },
  {
   "cell_type": "markdown",
   "metadata": {
    "id": "vM54r6jlKTII"
   },
   "source": [
    "## Install dependencies and initialization"
   ]
  },
  {
   "cell_type": "code",
   "execution_count": null,
   "metadata": {
    "id": "9_FzH13EjseR"
   },
   "outputs": [],
   "source": [
    "# install dependencies: \n",
    "!pip install pyyaml==5.1 \"pycocotools>=2.0.1\"\n",
    "# !pip install detectron2 -f https://dl.fbaipublicfiles.com/detectron2/wheels/cu101/torch1.6/index.html\n",
    "!pip install detectron2 -f https://dl.fbaipublicfiles.com/detectron2/wheels/cu111/torch1.9/index.html"
   ]
  },
  {
   "cell_type": "code",
   "execution_count": null,
   "metadata": {},
   "outputs": [],
   "source": [
    "! module list"
   ]
  },
  {
   "cell_type": "code",
   "execution_count": null,
   "metadata": {
    "id": "dqAUb5Y12qXt"
   },
   "outputs": [],
   "source": [
    "! pwd           # shows current directory\n",
    "! ls            # shows all files in this directory\n",
    "! nvidia-smi    # shows the specs and the current status of the allocated GPU"
   ]
  },
  {
   "cell_type": "code",
   "execution_count": null,
   "metadata": {
    "id": "b-i4hmGYk1dL"
   },
   "outputs": [],
   "source": [
    "# import some common libraries\n",
    "from sklearn.metrics import jaccard_score\n",
    "from PIL import Image, ImageDraw\n",
    "from tqdm.notebook import tqdm\n",
    "import pandas as pd\n",
    "import numpy as np\n",
    "import datetime\n",
    "import random\n",
    "import json\n",
    "import cv2\n",
    "import csv\n",
    "import os\n",
    "from math import floor\n",
    "\n",
    "# ignore warnings\n",
    "import warnings\n",
    "warnings.filterwarnings(\"ignore\")\n",
    "\n",
    "import torch\n",
    "print(\"Pytorch Version:\", torch.__version__)\n",
    "\n",
    "# import some common pytorch utilities\n",
    "from torch.utils.data import Dataset, DataLoader\n",
    "import torchvision.transforms as transforms\n",
    "from torch.autograd import Variable\n",
    "import torch.nn.functional as F\n",
    "import torch.nn as nn\n",
    "import torch\n",
    "\n",
    "# import some common detectron2 utilities\n",
    "import detectron2\n",
    "import detectron2.data.transforms\n",
    "from detectron2 import model_zoo\n",
    "from detectron2.config import get_cfg\n",
    "from detectron2.structures import BoxMode\n",
    "from detectron2.engine import DefaultTrainer\n",
    "from detectron2.engine import DefaultPredictor\n",
    "from detectron2.utils.logger import setup_logger\n",
    "from detectron2.utils.visualizer import ColorMode\n",
    "from detectron2.utils.visualizer import Visualizer\n",
    "from detectron2.data import build_detection_train_loader, build_detection_test_loader\n",
    "from detectron2.data import MetadataCatalog, DatasetCatalog, DatasetMapper\n",
    "from detectron2.evaluation import COCOEvaluator, inference_on_dataset\n",
    "setup_logger()\n",
    "\n",
    "# common visualization libraries\n",
    "# from google.colab.patches import cv2_imshow\n",
    "import matplotlib.pyplot as plt\n",
    "\n",
    "plt.rcParams[\"figure.dpi\"] = 300\n",
    "plt.rcParams.update({\"font.size\": 16})"
   ]
  },
  {
   "cell_type": "code",
   "execution_count": null,
   "metadata": {
    "id": "tUA_j6AF1L5Y"
   },
   "outputs": [],
   "source": [
    "# Make sure that GPU is available for your notebook. \n",
    "# Otherwise, you need to update the settungs in Runtime -> Change runtime type -> Hardware accelerator\n",
    "print(\"Is Cuda Available?\", \"yes\" if torch.cuda.is_available() else \"no\")"
   ]
  },
  {
   "cell_type": "code",
   "execution_count": null,
   "metadata": {
    "id": "ZyAvNCJMmvFF"
   },
   "outputs": [],
   "source": [
    "# You need to mount your google drive in order to load the data:\n",
    "from google.colab import drive\n",
    "drive.mount(\"/content/drive\")\n",
    "# Put all the corresponding data files in a data folder and put the data folder in a same directory with this notebook.\n",
    "# Also create an output directory for your files such as the trained models and the output images."
   ]
  },
  {
   "cell_type": "code",
   "execution_count": null,
   "metadata": {
    "id": "A_Di_fgL4HSv"
   },
   "outputs": [],
   "source": [
    "# Define the location of current directory, which should contain data/train, data/test, and data/train.json.\n",
    "# TODO: approx 1 line\n",
    "BASE_DIR = \".\"\n",
    "OUTPUT_DIR = \"{}/output\".format(BASE_DIR)\n",
    "os.makedirs(OUTPUT_DIR, exist_ok=True)"
   ]
  },
  {
   "cell_type": "markdown",
   "metadata": {
    "id": "Vk4gID50K03a"
   },
   "source": [
    "## Part 1: Object Detection"
   ]
  },
  {
   "cell_type": "markdown",
   "metadata": {
    "id": "xRV-KFJzlur4"
   },
   "source": [
    "### Data Loader"
   ]
  },
  {
   "cell_type": "code",
   "execution_count": null,
   "metadata": {
    "id": "dq9GY37ml1kr"
   },
   "outputs": [],
   "source": [
    "\"\"\"\n",
    "# This function should return a list of data samples in which each sample is a dictionary. \n",
    "# Make sure to select the correct bbox_mode for the data\n",
    "# For the test data, you only have access to the images, therefore, the annotations should be empty.\n",
    "# Other values could be obtained from the image files.\n",
    "# TODO: approx 35 lines\n",
    "\"\"\"\n",
    "def get_detection_data(set_name):\n",
    "    data_dirs = \"{}/data\".format(BASE_DIR)\n",
    "    dataset, val_set = [], []\n",
    "\n",
    "    already_added = []      # holds the image files which have already been \"processed\" or \"added to the memory\"\n",
    "\n",
    "    if set_name == \"train\":\n",
    "        with open(os.path.join(data_dirs, \"train.json\") , \"r\") as jsonFile:\n",
    "            rawdataset = json.load(jsonFile)\n",
    "\n",
    "            for idx, value in enumerate(rawdataset):\n",
    "                dataItem = {}\n",
    "                filename = os.path.join(data_dirs, \"train\", value[\"file_name\"])\n",
    "                width, height = Image.open(filename).size[:2]\n",
    "\n",
    "                obj = {\n",
    "                    \"bbox\": value[\"bbox\"],\n",
    "                    \"bbox_mode\": BoxMode.XYWH_ABS,\n",
    "                    \"segmentation\": value[\"segmentation\"],\n",
    "                    \"category_id\": 0\n",
    "                }\n",
    "\n",
    "                if filename in already_added:\n",
    "                    dict_idx = already_added.index(filename)\n",
    "                    dataset[dict_idx][\"annotations\"].append(obj)\n",
    "                else:\n",
    "                    dataItem[\"file_name\"] = filename\n",
    "                    already_added.append(filename)\n",
    "                    dataItem[\"image_id\"] = idx\n",
    "                    dataItem[\"height\"] = height\n",
    "                    dataItem[\"width\"] = width\n",
    "                    dataItem[\"annotations\"] = [obj]\n",
    "                    dataset.append(dataItem)\n",
    "        \n",
    "        # Train Validataion Split\n",
    "        # Train val split is 80%-20%: 158 40\n",
    "        # dataset_len = len(dataset)\n",
    "        # train_len = int(0.8 * dataset_len)\n",
    "\n",
    "        # dataset, val_set = dataset[:train_len], dataset[train_len:]\n",
    "\n",
    "    elif set_name == \"test\":\n",
    "        for idx, filename in enumerate(os.listdir(os.path.join(data_dirs, \"test\"))):\n",
    "            dataItem = {}\n",
    "            width, height = Image.open(os.path.join(data_dirs, \"test\", filename)).size[:2]\n",
    "\n",
    "            dataItem[\"file_name\"] = os.path.join(data_dirs, \"test\", filename)\n",
    "            dataItem[\"image_id\"] = idx\n",
    "            dataItem[\"height\"] = height\n",
    "            dataItem[\"width\"] = width\n",
    "            dataItem[\"annotations\"] = []\n",
    "\n",
    "            dataset.append(dataItem)\n",
    "    return dataset"
   ]
  },
  {
   "cell_type": "code",
   "execution_count": null,
   "metadata": {},
   "outputs": [],
   "source": [
    "# just to update the block dataset (Don't run unless necessary)\n",
    "for d in [\"train\", \"test\", \"val\"]:\n",
    "    DatasetCatalog.remove(\"data_detection_\" + d)"
   ]
  },
  {
   "cell_type": "code",
   "execution_count": null,
   "metadata": {},
   "outputs": [],
   "source": [
    "for d in [\"train\", \"test\"]:\n",
    "    DatasetCatalog.register(\"data_detection_\" + d, lambda d=d: get_detection_data(d)[0])\n",
    "    MetadataCatalog.get(\"data_detection_\" + d).set(thing_classes=[\"plane\"])\n",
    "    if d == \"train\":\n",
    "        DatasetCatalog.register(\"data_detection_val\", lambda d=d: get_detection_data(d)[1])\n",
    "        MetadataCatalog.get(\"data_detection_val\").set(thing_classes=[\"plane\"])\n",
    "\n",
    "full_train_meta = MetadataCatalog.get(\"data_detection_train\")\n",
    "full_val_meta = MetadataCatalog.get(\"data_detection_val\")\n",
    "full_test_meta = MetadataCatalog.get(\"data_detection_test\")"
   ]
  },
  {
   "cell_type": "code",
   "execution_count": null,
   "metadata": {},
   "outputs": [],
   "source": [
    "print(len(DatasetCatalog.get(\"data_detection_val\")))"
   ]
  },
  {
   "cell_type": "markdown",
   "metadata": {},
   "source": [
    "### Making Blocked dataset"
   ]
  },
  {
   "cell_type": "code",
   "execution_count": null,
   "metadata": {},
   "outputs": [],
   "source": [
    "cropped_width, cropped_height = 512, 512\n",
    "\n",
    "def crop_image(image, width_blk, new_width, height_blk, new_height):\n",
    "    # print(height_blk, height_blk*new_height, (height_blk+1)*new_height, \"\\t\", width_blk, width_blk*new_width, (width_blk+1)*new_width)\n",
    "    return image[height_blk*new_height: (height_blk+1)*new_height, width_blk*new_width: (width_blk+1)*new_width]\n",
    "\n",
    "def inside_bb(bbox, width_blk, new_width, height_blk, new_height):\n",
    "    bbx, bby, bbw, bbh = bbox\n",
    "\n",
    "    # print(bbx, bby, bbw, bbh, \"\\t\", width_blk, new_width, height_blk, new_height)\n",
    "    # the next conditions will skip all the images that are not inside the bounding box\n",
    "    # if the current height and width are inside the first point\n",
    "\n",
    "    after_firstx = (bbx >= width_blk*new_width)\n",
    "    before_secondx = (bbx <= (width_blk+1)*new_width)\n",
    "    after_firsty = (bby >= height_blk*new_height)\n",
    "    before_secondy = (bby <= (height_blk+1)*new_height)\n",
    "\n",
    "    width_check_before = (bbx+bbw) >= (width_blk)*new_width\n",
    "    height_check_before = (bby+bbh) >= (height_blk)*new_height\n",
    "\n",
    "    width_check_after = (bbx+bbw) <= (width_blk+1)*new_width\n",
    "    height_check_after = (bby+bbh) <= (height_blk+1)*new_height\n",
    "\n",
    "    inside = (after_firstx or after_firsty) and \\\n",
    "        (width_check_before and height_check_before) and \\\n",
    "            (width_check_after and height_check_after)\n",
    "    # this condition on the third line checks if the current height and width are inside the second point\n",
    "\n",
    "    if inside:\n",
    "        cropped_bbox = [bbx - width_blk*new_width, bby - height_blk*new_height, bbw, bbh]\n",
    "    else:\n",
    "        cropped_bbox = []\n",
    "    return inside, cropped_bbox"
   ]
  },
  {
   "cell_type": "code",
   "execution_count": null,
   "metadata": {},
   "outputs": [],
   "source": [
    "\"\"\"\n",
    "This Function creates the new images for the dataset in a new directory\n",
    "as well as their respective json files (for test as well)\n",
    "So the other function just has to read the json file and do nothing else\n",
    "\"\"\"\n",
    "def make_block_detection_dataset(data, set_name):\n",
    "    new_dir = \"{}/data_blocks\".format(BASE_DIR)\n",
    "\n",
    "    if not os.path.exists(os.path.join(new_dir, set_name)):\n",
    "        os.makedirs(os.path.join(new_dir, set_name))\n",
    "\n",
    "    dataset = []\n",
    "    already_made, already_added = [], []\n",
    "\n",
    "    if set_name == \"train\":\n",
    "        image_id = 0\n",
    "        for idx, value in enumerate(data):\n",
    "            image = cv2.imread(value[\"file_name\"])\n",
    "            height, width = value[\"height\"], value[\"width\"]\n",
    "\n",
    "            new_height = floor(height/(height//cropped_height))\n",
    "            new_width = floor(width/(width//cropped_width))\n",
    "\n",
    "            for width_blk in range(width//cropped_width):\n",
    "                for height_blk in range(height//cropped_height):\n",
    "                    dataItem = {}\n",
    "\n",
    "                    cropped_annotations = []\n",
    "                    cropped_img = crop_image(image, width_blk, new_width, height_blk, new_height)\n",
    "                    # print(cropped_img.shape)\n",
    "                    filename = \"{}_{}_{}.png\".format(value[\"file_name\"].split(\"/\")[-1].split(\".\")[0], width_blk, height_blk)\n",
    "\n",
    "                    # print(value[\"annotations\"])\n",
    "                    for annotation in value[\"annotations\"]:\n",
    "\n",
    "                        is_inside, cropped_bbox = inside_bb(annotation[\"bbox\"], width_blk, new_width, height_blk, new_height)\n",
    "                        if is_inside:\n",
    "                            if filename not in already_made:\n",
    "                                cv2.imwrite(os.path.join(new_dir, set_name, filename), cropped_img)\n",
    "                                already_made.append(filename)\n",
    "\n",
    "                            cropped_masks = []\n",
    "                            for mask_idx, mask_val in enumerate(annotation[\"segmentation\"][0]):\n",
    "                                if mask_idx%2 == 0:\n",
    "                                    cropped_masks.append(mask_val - width_blk*new_width)\n",
    "                                else:\n",
    "                                    cropped_masks.append(mask_val - height_blk*new_height)\n",
    "\n",
    "                            obj = {\n",
    "                                \"bbox\": cropped_bbox,\n",
    "                                \"bbox_mode\": BoxMode.XYWH_ABS,\n",
    "                                \"segmentation\": [cropped_masks],\n",
    "                                \"category_id\": 0\n",
    "                            }\n",
    "                            cropped_annotations.append(obj)\n",
    "                            # print(filename, image_id, cropped_annotations)\n",
    "                    if filename not in already_added and len(cropped_annotations) != 0:\n",
    "                        dataItem[\"file_name\"] = os.path.join(new_dir, set_name, filename)\n",
    "                        already_added.append(filename)\n",
    "                        dataItem[\"image_id\"] = image_id\n",
    "                        image_id += 1\n",
    "                        dataItem[\"height\"] = new_height\n",
    "                        dataItem[\"width\"] = new_width\n",
    "                        dataItem[\"annotations\"] = cropped_annotations\n",
    "                        dataset.append(dataItem)\n",
    "\n",
    "        json.dump(dataset, open(os.path.join(new_dir, set_name, \"train.json\"), \"w\"))\n",
    "\n",
    "    elif set_name == \"test\":\n",
    "        image_id = 0\n",
    "        for idx, value in enumerate(data):\n",
    "            image = cv2.imread(value[\"file_name\"])\n",
    "            height, width, _ = image.shape\n",
    "\n",
    "            new_height = round(height/(height//cropped_height))\n",
    "            new_width = round(width/(width//cropped_width))\n",
    "\n",
    "            for width_blk in range(width//cropped_width):\n",
    "                for height_blk in range(height//cropped_height):\n",
    "                    dataItem = {}\n",
    "                    cropped_img = crop_image(image, width_blk, new_width, height_blk, new_height)\n",
    "                    new_filename = \"{}_{}_{}.png\".format(value[\"file_name\"].split(\"/\")[-1].split(\".\")[0], width_blk, height_blk)\n",
    "                    cv2.imwrite(os.path.join(new_dir, set_name, new_filename), cropped_img)\n",
    "\n",
    "                    dataItem[\"file_name\"] = os.path.join(new_dir, set_name, new_filename)\n",
    "                    dataItem[\"image_id\"] = image_id\n",
    "                    image_id += 1\n",
    "                    dataItem[\"height\"] = new_height\n",
    "                    dataItem[\"width\"] = new_width\n",
    "                    dataItem[\"annotations\"] = []\n",
    "\n",
    "                    dataset.append(dataItem)\n",
    "        json.dump(dataset, open(os.path.join(new_dir, set_name, \"test.json\"), \"w\"))\n",
    "    return dataset"
   ]
  },
  {
   "cell_type": "markdown",
   "metadata": {},
   "source": [
    "#### Visualizing the blocked dataset"
   ]
  },
  {
   "cell_type": "code",
   "execution_count": null,
   "metadata": {},
   "outputs": [],
   "source": [
    "train_detection_full_set = get_detection_data(\"train\")\n",
    "test_detection_full_set = get_detection_data(\"test\")"
   ]
  },
  {
   "cell_type": "code",
   "execution_count": null,
   "metadata": {},
   "outputs": [],
   "source": [
    "sample = make_block_detection_dataset([train_detection_full_set[90]], set_name=\"train\")\n",
    "len(sample)"
   ]
  },
  {
   "cell_type": "code",
   "execution_count": null,
   "metadata": {},
   "outputs": [],
   "source": [
    "fig, axs = plt.subplots(nrows=len(sample)//6 + 1, ncols=6, figsize=(20, 15))\n",
    "print(len(sample))\n",
    "\n",
    "num = 0\n",
    "\n",
    "for row in range(axs.shape[0]):\n",
    "    for col in range(axs.shape[1]):\n",
    "        if (num == len(sample)):\n",
    "            break\n",
    "        image = cv2.imread(sample[num][\"file_name\"])\n",
    "        visualizer = Visualizer(image[:, :, ::-1], metadata=full_train_meta, scale=0.5)\n",
    "        visualizer._default_font_size = 4\n",
    "        out = visualizer.draw_dataset_dict(sample[num])\n",
    "        axs[row, col].imshow(out.get_image()[:, :, ::-1])\n",
    "        axs[row, col].set_xticks([])\n",
    "        axs[row, col].set_yticks([])\n",
    "        num += 1"
   ]
  },
  {
   "cell_type": "code",
   "execution_count": null,
   "metadata": {},
   "outputs": [],
   "source": [
    "train_meta_full = MetadataCatalog.get(\"data_detection_train\")\n",
    "# print(train_detection_full_set[90])\n",
    "image = cv2.imread(train_detection_full_set[90][\"file_name\"])\n",
    "visualizer = Visualizer(image[:, :, ::-1], metadata=train_meta_full, scale=0.5)\n",
    "visualizer._default_font_size = 4\n",
    "out = visualizer.draw_dataset_dict(train_detection_full_set[90])\n",
    "plt.imshow(out.get_image()[:,:,::-1])\n",
    "plt.xticks([])\n",
    "plt.yticks([])"
   ]
  },
  {
   "cell_type": "markdown",
   "metadata": {},
   "source": [
    "#### Generating the datasets"
   ]
  },
  {
   "cell_type": "code",
   "execution_count": null,
   "metadata": {},
   "outputs": [],
   "source": [
    "make_block_detection_dataset(train_detection_full_set, set_name=\"train\")"
   ]
  },
  {
   "cell_type": "code",
   "execution_count": null,
   "metadata": {},
   "outputs": [],
   "source": [
    "make_block_detection_dataset(test_detection_full_set, set_name=\"test\")"
   ]
  },
  {
   "cell_type": "code",
   "execution_count": null,
   "metadata": {},
   "outputs": [],
   "source": [
    "# just to update the block dataset (Don't run unless necessary)\n",
    "for d in [\"train\", \"test\", \"val\"]:\n",
    "    DatasetCatalog.remove(\"data_block_detection_\" + d)"
   ]
  },
  {
   "cell_type": "code",
   "execution_count": null,
   "metadata": {},
   "outputs": [],
   "source": [
    "def get_block_detection_data(set_name=\"train\"):\n",
    "    new_dir = \"{}/data_blocks\".format(BASE_DIR)\n",
    "    train_dataset, val_dataset = [], []\n",
    "    if set_name == \"train\":\n",
    "        dataset = []\n",
    "        with open(os.path.join(new_dir, set_name, \"train.json\") , \"r\") as jsonFile:\n",
    "            dataset = json.load(jsonFile)\n",
    "\n",
    "        # Train Validataion Split\n",
    "        # Train val split is 80%-20%\n",
    "        dataset_len = len(dataset)\n",
    "        train_len = int(0.8 * dataset_len)\n",
    "        train_dataset, val_dataset = dataset[:train_len], dataset[train_len:]\n",
    "    if set_name == \"test\":\n",
    "        with open(os.path.join(new_dir, set_name, \"test.json\") , \"r\") as jsonFile:\n",
    "            train_dataset = json.load(jsonFile)\n",
    "\n",
    "    # train_dataset is also the test dataset in the case of test set and val_dataset would be empty for the testing phase\n",
    "    return train_dataset, val_dataset"
   ]
  },
  {
   "cell_type": "code",
   "execution_count": null,
   "metadata": {
    "id": "xCH-2mWxDVVu"
   },
   "outputs": [],
   "source": [
    "\"\"\"\n",
    "# Remember to add your dataset to DatasetCatalog and MetadataCatalog\n",
    "# Consdier \"data_detection_train\" and \"data_detection_test\" for registration\n",
    "# You can also add an optional \"data_detection_val\" for your validation by spliting the training data\n",
    "# TODO: approx 5 lines\n",
    "\"\"\"\n",
    "for d in [\"train\", \"test\"]:\n",
    "    DatasetCatalog.register(\"data_block_detection_\" + d, lambda d=d: get_block_detection_data(d)[0])\n",
    "    MetadataCatalog.get(\"data_block_detection_\" + d).set(thing_classes=[\"plane\"])\n",
    "    if d == \"train\":\n",
    "        DatasetCatalog.register(\"data_block_detection_val\", lambda d=d: get_block_detection_data(d)[1])\n",
    "        MetadataCatalog.get(\"data_block_detection_val\").set(thing_classes=[\"plane\"])\n",
    "\n",
    "block_train_meta = MetadataCatalog.get(\"data_block_detection_train\")\n",
    "block_val_meta = MetadataCatalog.get(\"data_block_detection_val\")\n",
    "block_test_meta = MetadataCatalog.get(\"data_block_detection_test\")"
   ]
  },
  {
   "cell_type": "code",
   "execution_count": null,
   "metadata": {
    "id": "qNSdXCL_DVAz"
   },
   "outputs": [],
   "source": [
    "\"\"\"\n",
    "# Visualize some samples using Visualizer to make sure that the function works correctly\n",
    "# TODO: approx 5 lines\n",
    "\"\"\"\n",
    "fig, axs = plt.subplots(nrows=2, ncols=3, figsize=(20, 15))\n",
    "fig.suptitle(\"Visualizing 6 random images (Val Set - Patches)\", fontsize=22)\n",
    "\n",
    "random_train = [item for item in random.sample(DatasetCatalog.get(\"data_block_detection_val\"), 6)]\n",
    "num = 0\n",
    "for row in range(axs.shape[0]):\n",
    "    for col in range(axs.shape[1]):\n",
    "        image = cv2.imread(random_train[num][\"file_name\"])\n",
    "        visualizer = Visualizer(image[:, :, ::-1], metadata=block_train_meta, scale=0.5)\n",
    "        visualizer._default_font_size = 4\n",
    "        out = visualizer.draw_dataset_dict(random_train[num])\n",
    "        axs[row, col].imshow(out.get_image()[:, :, ::-1])\n",
    "        axs[row, col].set_xticks([])\n",
    "        axs[row, col].set_yticks([])\n",
    "        num += 1"
   ]
  },
  {
   "cell_type": "markdown",
   "metadata": {
    "id": "uM1thbN-ntjI"
   },
   "source": [
    "### Set Configs"
   ]
  },
  {
   "cell_type": "code",
   "execution_count": null,
   "metadata": {
    "id": "HUjkwRsOn1O0"
   },
   "outputs": [],
   "source": [
    "\"\"\"\n",
    "# Set the configs for the detection part in here.\n",
    "# TODO: approx 15 lines\n",
    "\"\"\"\n",
    "cfg = get_cfg()\n",
    "cfg.OUTPUT_DIR = \"{}/output/\".format(BASE_DIR)\n",
    "\n",
    "# cfg.merge_from_file(model_zoo.get_config_file(\"COCO-Detection/faster_rcnn_R_101_FPN_3x.yaml\"))\n",
    "cfg.merge_from_file(model_zoo.get_config_file(\"COCO-Detection/faster_rcnn_X_101_32x8d_FPN_3x.yaml\"))    # Improved\n",
    "cfg.DATASETS.TRAIN = (\"data_block_detection_train\",)\n",
    "cfg.DATASETS.TEST = (\"data_block_detection_val\",)\n",
    "cfg.DATALOADER.NUM_WORKERS = 2\n",
    "# cfg.MODEL.WEIGHTS = model_zoo.get_checkpoint_url(\"COCO-Detection/faster_rcnn_R_101_FPN_3x.yaml\")      # Let training initialize from model zoo\n",
    "cfg.MODEL.WEIGHTS = model_zoo.get_checkpoint_url(\"COCO-Detection/faster_rcnn_X_101_32x8d_FPN_3x.yaml\")  # Improved\n",
    "cfg.SOLVER.IMS_PER_BATCH = 4\n",
    "cfg.SOLVER.BASE_LR = 0.00025\n",
    "cfg.SOLVER.MAX_ITER = 300                                                                               # updated from 500\n",
    "cfg.SOLVER.STEPS = []\n",
    "\n",
    "cfg.MODEL.ROI_HEADS.BATCH_SIZE_PER_IMAGE = 512\n",
    "cfg.MODEL.ROI_HEADS.NUM_CLASSES = 1                                                                     # plane is the only class"
   ]
  },
  {
   "cell_type": "markdown",
   "metadata": {
    "id": "P4rql8pNokE4"
   },
   "source": [
    "### Training"
   ]
  },
  {
   "cell_type": "code",
   "execution_count": null,
   "metadata": {
    "id": "7d3KxiHO_0gb"
   },
   "outputs": [],
   "source": [
    "\"\"\"\n",
    "# Create a DefaultTrainer using the above config and train the model\n",
    "# TODO: approx 5 lines\n",
    "\"\"\"\n",
    "class DetectionTrainer(DefaultTrainer):\n",
    "    def train_loader(cfg):\n",
    "        mapper = DatasetMapper(cfg, is_train=True, augmentations=[\n",
    "            detectron2.data.transforms.resize((400, 400)),\n",
    "            detectron2.data.transforms.RandomCrop(\"relative\", (0.7, 0.7)),\n",
    "            detectron2.data.transforms.RandomBrightness(0.3, 1.5),\n",
    "            detectron2.data.transforms.RandomRotation([0, 360]),\n",
    "            detectron2.data.RandomFlip(prob=0.33, horizontal=False, vertical=True),\n",
    "            detectron2.data.RandomFlip(prob=0.33, horizontal=True, vertical=False),\n",
    "            detectron2.data.Normalize(mean = [0.50867474, 0.5278123, 0.5297691],\n",
    "                                      std = [0.22613746, 0.22742623, 0.2254186])\n",
    "        ])\n",
    "        return build_detection_train_loader(cfg, mapper=mapper)"
   ]
  },
  {
   "cell_type": "code",
   "execution_count": null,
   "metadata": {},
   "outputs": [],
   "source": [
    "trainer = DetectionTrainer(cfg)\n",
    "trainer.resume_or_load(resume=False)\n",
    "trainer.train()"
   ]
  },
  {
   "cell_type": "markdown",
   "metadata": {
    "id": "fRVEiICco3SV"
   },
   "source": [
    "### Evaluation and Visualization"
   ]
  },
  {
   "cell_type": "code",
   "execution_count": null,
   "metadata": {},
   "outputs": [],
   "source": [
    "%load_ext tensorboard\n",
    "%tensorboard --logdir=output"
   ]
  },
  {
   "cell_type": "code",
   "execution_count": null,
   "metadata": {
    "id": "VYCIXdMZvDYL"
   },
   "outputs": [],
   "source": [
    "\"\"\"\n",
    "# After training the model, you need to update cfg.MODEL.WEIGHTS\n",
    "# Define a DefaultPredictor\n",
    "\"\"\"\n",
    "cfg.MODEL.WEIGHTS = os.path.join(cfg.OUTPUT_DIR, \"detection3000_model_final.pth\")\n",
    "cfg.MODEL.ROI_HEADS.SCORE_THRESH_TEST = 0.6                             # 0.7 \n",
    "\n",
    "predictor = DefaultPredictor(cfg)"
   ]
  },
  {
   "cell_type": "code",
   "execution_count": null,
   "metadata": {},
   "outputs": [],
   "source": [
    "def divide_into_blocks(data, image):\n",
    "    datasamples = []\n",
    "\n",
    "    width = data[\"width\"]\n",
    "    height = data[\"height\"]\n",
    "\n",
    "    new_height = floor(height/(height//cropped_height))\n",
    "    new_width = floor(width/(width//cropped_width))\n",
    "\n",
    "    for height_blk in range(height//cropped_height):\n",
    "        horizontalsamples = []\n",
    "        for width_blk in range(width//cropped_width):\n",
    "            cropped_img = crop_image(image, width_blk, new_width, height_blk, new_height)\n",
    "            horizontalsamples.append(cropped_img)\n",
    "        datasamples.append(horizontalsamples)\n",
    "    \n",
    "    return datasamples"
   ]
  },
  {
   "cell_type": "code",
   "execution_count": null,
   "metadata": {
    "id": "_hRCf86KGi5v"
   },
   "outputs": [],
   "source": [
    "\"\"\"\n",
    "# Visualize the output for 3 random test samples\n",
    "# TODO: approx 10 lines\n",
    "\"\"\"\n",
    "fig, axs = plt.subplots(nrows=2, ncols=3, figsize=(20, 15))\n",
    "fig.suptitle(\"Visualizing 6 random prediction results\", fontsize=22)\n",
    "\n",
    "random_test = [item for item in random.sample(DatasetCatalog.get(\"data_detection_val\"), 6)]\n",
    "num = 0\n",
    "\n",
    "for row in range(axs.shape[0]):\n",
    "    for col in range(axs.shape[1]):\n",
    "        image = cv2.imread(random_test[num][\"file_name\"])\n",
    "        width, height = random_test[num][\"width\"], random_test[num][\"height\"]\n",
    "        full_image = np.zeros(image.shape)\n",
    "        divided_images = divide_into_blocks(random_test[num], image)\n",
    "\n",
    "        for height_blk in range(len(divided_images)):\n",
    "            for width_blk in range(len(divided_images[0])):\n",
    "                img = divided_images[height_blk][width_blk]\n",
    "                outputs = predictor(img)\n",
    "                visualizer = Visualizer(img[:, :, ::-1],\n",
    "                                    metadata=full_val_meta)    # scale divides the image (very troublesome)\n",
    "                visualizer._default_font_size = 4\n",
    "                out = visualizer.draw_instance_predictions(outputs[\"instances\"].to(\"cpu\"))\n",
    "                out_img = out.get_image()[:, :, ::-1]\n",
    "                block_height, block_width, _ = out_img.shape\n",
    "\n",
    "                full_image[height_blk*block_height:(height_blk+1)*block_height, width_blk*block_width:(width_blk+1)*block_width] = out_img\n",
    "\n",
    "        # normalizing the image so it does not get clipped by matplotlib\n",
    "        full_image = (full_image - np.min(full_image)) / (np.max(full_image) - np.min(full_image))\n",
    "\n",
    "        axs[row, col].imshow(full_image)\n",
    "        axs[row, col].set_xticks([])\n",
    "        axs[row, col].set_yticks([])\n",
    "        num += 1"
   ]
  },
  {
   "cell_type": "code",
   "execution_count": null,
   "metadata": {
    "id": "D0wRdlcKo6BD"
   },
   "outputs": [],
   "source": [
    "\"\"\"\n",
    "# Use COCOEvaluator and build_detection_train_loader\n",
    "# You can save the output predictions using inference_on_dataset\n",
    "# TODO: approx 5 lines\n",
    "\"\"\"\n",
    "\n",
    "evaluator = COCOEvaluator(\"data_block_detection_val\", output_dir=cfg.OUTPUT_DIR)\n",
    "test_loader = build_detection_test_loader(cfg, \"data_block_detection_val\")\n",
    "print(inference_on_dataset(trainer.model, test_loader, evaluator))"
   ]
  },
  {
   "cell_type": "markdown",
   "metadata": {
    "id": "EwYvbwcjpKBk"
   },
   "source": [
    "### Improvements\n",
    "\n",
    "For this part, you can bring any improvement which you have by adding new input parameters to the previous functions or defining new functions and variables."
   ]
  },
  {
   "cell_type": "markdown",
   "metadata": {
    "id": "xdR6KbCZpOlk"
   },
   "source": [
    "\n",
    "# Original Model\n",
    "## Specifications\n",
    "\n",
    "- Pretrained Model used: “faster_rcnn_R_101_FPN_3x.yml”\n",
    "- MAX_ITER = 500\n",
    "- BATCH_SIZE_PER_IMAGE = 512\n",
    "- IMS_PER_BATCH = 2\n",
    "- BASE_LR = 0.00025\n",
    "- SCORE_THRESH_TEST = 0.7\n",
    "\n",
    "## Training Losses\n",
    "iter: 499  total_loss: 0.9014  loss_cls: 0.2035  loss_box_reg: 0.2971  loss_rpn_cls: 0.1164  loss_rpn_loc: 0.2317  time: 0.5699  data_time: 0.4110  lr: 0.0002495  max_mem: 7138M\n",
    "\n",
    "## Evaluation (Validation Set)\n",
    "|   AP   |  AP50  |  AP75  |  APs   |  APm   |  APl   |\n",
    "|:------:|:------:|:------:|:------:|:------:|:------:|\n",
    "| 25.532 | 50.884 | 23.175 | 22.917 | 40.961 | 50.750 |\n",
    "\n",
    "# Improved Model\n",
    "## Specicifications\n",
    "\n",
    "- Pretrained Model used: “faster_rcnn_X_101_32x8d_FPN_3x.yml”\n",
    "- MAX_ITER = 1500\n",
    "- BASE_LR = 0.00025\n",
    "- SCORE_THRESH_TEST = 0.6\n",
    "\n",
    "- Augmentations:\n",
    "    - Resize\n",
    "    - RandomCrop\n",
    "    - RandomBrightness\n",
    "    - RandomFlip (Horizontal)\n",
    "    - RandomFlip (Vertical)\n",
    "    - RandomRotation\n",
    "\n",
    "## Training Losses\n",
    "iter: 1499  total_loss: 0.4923  loss_cls: 0.09955  loss_box_reg: 0.2605  loss_rpn_cls: 0.01884  loss_rpn_loc: 0.09092  time: 0.9274  data_time: 0.0741  lr: 0.00025  max_mem: 9701M\n",
    "\n",
    "## Evaluation (Validation Set)\n",
    "|   AP   |  AP50  |  AP75  |  APs   |  APm   |  APl   |\n",
    "|:------:|:------:|:------:|:------:|:------:|:------:|\n",
    "| 39.029 | 66.136 | 42.902 | 34.872 | 57.326 | 67.355 |\n",
    "\n",
    "# Images in Patches\n",
    "## Training Loss\n",
    "iter: 1999  total_loss: 0.3173  loss_cls: 0.09003  loss_box_reg: 0.1403  loss_rpn_cls: 0.01165  loss_rpn_loc: 0.03911  time: 0.7538  data_time: 0.0028  lr: 0.00025  max_mem: 7480M\n",
    "## Evaluation (Validation Set)\n",
    "### 2000 iterations\n",
    "|   AP   |  AP50  |  AP75  |  APs   |  APm   |  APl   |\n",
    "|:------:|:------:|:------:|:------:|:------:|:------:|\n",
    "| 58.188 | 86.462 | 69.895 | 63.066 | 56.444 | 35.380 |\n",
    "\n",
    "### 3000 iterations (4 batch size)\n",
    "#### This Model\n",
    "|   AP   |  AP50  |  AP75  |  APs   |  APm   |  APl   |\n",
    "|:------:|:------:|:------:|:------:|:------:|:------:|\n",
    "| 61.261 | 86.990 | 72.992 | 65.188 | 58.283 | 40.558 |\n",
    "##### 2nd run\n",
    "|   AP   |  AP50  |  AP75  |  APs   |  APm   |  APl   |\n",
    "|:------:|:------:|:------:|:------:|:------:|:------:|\n",
    "| 60.855 | 86.469 | 71.730 | 65.125 | 60.491 | 40.641 |\n",
    "#### Mask RCNN (4 batch size)\n",
    "|   AP   |  AP50  |  AP75  |  APs   |  APm   |  APl   |\n",
    "|:------:|:------:|:------:|:------:|:------:|:------:|\n",
    "| 60.377 | 86.210 | 72.843 | 65.647 | 57.667 | 37.212 |\n",
    "\n",
    "### 5000 iterations (4 batch size) - Overfit\n",
    "#### This Model\n",
    "|   AP   |  AP50  |  AP75  |  APs   |  APm   |  APl   |\n",
    "|:------:|:------:|:------:|:------:|:------:|:------:|\n",
    "| 61.268 | 86.323 | 72.166 | 64.300 | 60.850 | 35.902 |\n",
    "#### Mask RCNN (2 batch size)\n",
    "|   AP   |  AP50  |  AP75  |  APs   |  APm   |  APl   |\n",
    "|:------:|:------:|:------:|:------:|:------:|:------:|\n",
    "| 61.517 | 85.989 | 73.176 | 66.696 | 59.688 | 31.893 |"
   ]
  },
  {
   "cell_type": "markdown",
   "metadata": {
    "id": "98_M4TooqSs2"
   },
   "source": [
    "## Part 2: Semantic Segmentation"
   ]
  },
  {
   "cell_type": "markdown",
   "metadata": {
    "id": "ByAEsMtIPLrO"
   },
   "source": [
    "### Data Loader"
   ]
  },
  {
   "cell_type": "code",
   "execution_count": null,
   "metadata": {},
   "outputs": [],
   "source": [
    "\"\"\"\n",
    "# Write a function that returns the cropped image and corresponding mask regarding the target bounding box\n",
    "# idx is the index of the target bbox in the data\n",
    "# high-resolution image could be passed or could be load from data[\"file_name\"]\n",
    "# You can use the mask attribute of detectron2.utils.visualizer.GenericMask \n",
    "# to convert the segmentation annotations to binary masks\n",
    "# TODO: approx 10 lines\n",
    "\"\"\"\n",
    "from detectron2.utils.visualizer import GenericMask\n",
    "\n",
    "def get_instance_sample(data, idx, img=None):\n",
    "    width = data[\"width\"]\n",
    "    height = data[\"height\"]\n",
    "\n",
    "    mask = data[\"annotations\"][idx][\"segmentation\"]\n",
    "    bbx, bby, bbw, bbh = data[\"annotations\"][idx][\"bbox\"]\n",
    "\n",
    "    if img is None:\n",
    "        img = cv2.imread(data[\"file_name\"])\n",
    "\n",
    "    obj_img = img[round(bby):round(bby + bbh), round(bbx):round(bbx + bbw)]\n",
    "\n",
    "    obj_mask = np.array(GenericMask(mask, height, width).mask)\n",
    "    obj_mask = obj_mask[round(bby):round(bby + bbh), round(bbx):round(bbx + bbw)]\n",
    "\n",
    "    return obj_img, obj_mask"
   ]
  },
  {
   "cell_type": "code",
   "execution_count": null,
   "metadata": {},
   "outputs": [],
   "source": [
    "\"\"\"\n",
    "# We have provided a template data loader for your segmentation training\n",
    "# You need to complete the __getitem__() function before running the code\n",
    "# You may also need to add data augmentation or normalization in here\n",
    "\"\"\"\n",
    "\n",
    "class PlaneDataset(Dataset):\n",
    "    def __init__(self, set_name, data_list):\n",
    "        self.transforms = transforms.Compose([\n",
    "            transforms.ToTensor(), # Converting the image to tensor and change the image format (Channels-Last => Channels-First)\n",
    "            transforms.Normalize(mean=[0.50867474, 0.5278123, 0.5297691],\n",
    "                                 std=[0.22613746, 0.22742623, 0.2254186])\n",
    "        ])\n",
    "        self.set_name = set_name\n",
    "        self.data = data_list\n",
    "        self.instance_map = []\n",
    "        for i, d in enumerate(self.data):\n",
    "            for j in range(len(d[\"annotations\"])):\n",
    "                self.instance_map.append([i,j])\n",
    "\n",
    "    \"\"\"\n",
    "    # you can change the value of length to a small number like 10 for debugging of your training procedure and overfeating\n",
    "    # make sure to use the correct length for the final training\n",
    "    \"\"\"\n",
    "    def __len__(self):\n",
    "        return len(self.instance_map)\n",
    "\n",
    "    def numpy_to_tensor(self, img, mask):\n",
    "        if self.transforms is not None:\n",
    "            img = self.transforms(img)\n",
    "\n",
    "        if not torch.is_tensor(img):\n",
    "            img = torch.tensor(img, dtype=torch.float)\n",
    "\n",
    "        mask = torch.tensor(mask, dtype=torch.float)\n",
    "        return img, mask.unsqueeze(0)\n",
    "\n",
    "    \"\"\"\n",
    "    # Complete this part by using get_instance_sample function\n",
    "    # make sure to resize the img and mask to a fixed size (for example 128*128)\n",
    "    # you can use \"interpolate\" function of pytorch or \"numpy.resize\"\n",
    "    # TODO: 5 lines\n",
    "    \"\"\"\n",
    "    def __getitem__(self, idx):\n",
    "        if torch.is_tensor(idx):\n",
    "            idx = idx.tolist()\n",
    "        idx = self.instance_map[idx]\n",
    "        data = self.data[idx[0]]\n",
    "\n",
    "        img, mask = get_instance_sample(data, idx[1])\n",
    "\n",
    "        img = cv2.resize(img, dsize=(128, 128), interpolation=cv2.INTER_NEAREST)\n",
    "        mask = cv2.resize(mask, dsize=(128, 128), interpolation=cv2.INTER_NEAREST)\n",
    "        img, mask = self.numpy_to_tensor(img, mask)\n",
    "\n",
    "        return img, mask\n",
    "\n",
    "def get_plane_dataset(set_name=\"train\", batch_size=2):\n",
    "    my_data_list = DatasetCatalog.get(\"data_detection_{}\".format(set_name))\n",
    "    dataset = PlaneDataset(set_name, my_data_list)\n",
    "    loader = DataLoader(dataset, batch_size=batch_size, num_workers=4,\n",
    "                        pin_memory=False, shuffle=True)\n",
    "    return loader, dataset"
   ]
  },
  {
   "cell_type": "code",
   "execution_count": null,
   "metadata": {},
   "outputs": [],
   "source": [
    "_, data_train = get_plane_dataset(set_name=\"train\")\n",
    "_, data_val = get_plane_dataset(set_name=\"val\")\n",
    "# loader_test, _ = get_plane_dataset(set_name=\"test\")\n",
    "\n",
    "whole_dataset = torch.utils.data.ConcatDataset([data_train, data_val])\n",
    "\n",
    "imgs = [item[0] for item in whole_dataset]      # item[0] and item[1] are image and its mask\n",
    "imgs = torch.stack(imgs, dim=0).numpy()\n",
    "\n",
    "# calculate mean over each channel (r,g,b)\n",
    "print(\"Mean for RGB images:\\t\\t\\t\", imgs[:,0,:,:].mean(), imgs[:,1,:,:].mean(), imgs[:,2,:,:].mean())\n",
    "\n",
    "# calculate std over each channel (r,g,b)\n",
    "print(\"Standard Deviation for RGB images:\\t\", imgs[:,0,:,:].std(), imgs[:,1,:,:].std(), imgs[:,2,:,:].std())\n",
    "\n",
    "\n",
    "\"\"\"\n",
    "Mean for RGB images:\t\t\t     0.50867474 0.5278123 0.5297691\n",
    "Standard Deviation for RGB images:\t 0.22613746 0.22742623 0.2254186\n",
    "\"\"\""
   ]
  },
  {
   "cell_type": "markdown",
   "metadata": {},
   "source": [
    "#### Testing the loaded data"
   ]
  },
  {
   "cell_type": "code",
   "execution_count": null,
   "metadata": {
    "id": "sxrc9X_pjzj-"
   },
   "outputs": [],
   "source": [
    "loader, dataset = get_plane_dataset(set_name=\"train\", batch_size=2)\n",
    "print(\"Shape of image and its mask (for an image):\", dataset[0][0].shape, dataset[0][1].shape)\n",
    "\n",
    "vis_img, vis_mask = np.transpose(dataset[0][0].numpy(), [1, 2, 0]), dataset[0][1].squeeze(0).numpy()\n",
    "\n",
    "fig, axs = plt.subplots(nrows=1, ncols=2)\n",
    "axs[0].imshow(vis_img)\n",
    "axs[1].imshow(vis_mask)\n",
    "\n",
    "axs[0].set_xticks([])\n",
    "axs[0].set_yticks([])\n",
    "axs[1].set_xticks([])\n",
    "axs[1].set_yticks([])\n",
    "\n",
    "plt.show()"
   ]
  },
  {
   "cell_type": "markdown",
   "metadata": {
    "id": "m6eH3NKaQQfc"
   },
   "source": [
    "### Network"
   ]
  },
  {
   "cell_type": "code",
   "execution_count": null,
   "metadata": {
    "id": "PeqR3s3dSBPN"
   },
   "outputs": [],
   "source": [
    "\"\"\"\n",
    "# convolution module as a template layer consists of conv2d layer, batch normalization, and relu activation\n",
    "\"\"\"\n",
    "class conv(nn.Module):\n",
    "    def __init__(self, in_ch, out_ch, int_ch=None, activation=True):\n",
    "        super(conv, self).__init__()\n",
    "        if not int_ch:\n",
    "            int_ch = out_ch\n",
    "        if(activation):\n",
    "            self.layer = nn.Sequential(\n",
    "                nn.Conv2d(in_ch, int_ch, 3, padding=1),\n",
    "                nn.BatchNorm2d(int_ch),\n",
    "                nn.ReLU(inplace=True),\n",
    "                nn.Conv2d(int_ch, out_ch, 3, padding=1),\n",
    "                nn.BatchNorm2d(out_ch),\n",
    "                nn.ReLU(inplace=True)\n",
    "            )\n",
    "        else:\n",
    "            self.layer = nn.Sequential(\n",
    "                nn.Conv2d(in_ch, int_ch, 3, padding=1),\n",
    "                nn.BatchNorm2d(int_ch),\n",
    "                nn.ReLU(inplace=True),\n",
    "                nn.Conv2d(int_ch, out_ch, 3, padding=1),\n",
    "            )\n",
    "\n",
    "    def forward(self, x):\n",
    "        x = self.layer(x)\n",
    "        return x\n",
    "\n",
    "\"\"\"\n",
    "# downsampling module equal to a conv module followed by a max-pool layer\n",
    "\"\"\"\n",
    "class down(nn.Module):\n",
    "    def __init__(self, in_ch, out_ch):\n",
    "        super(down, self).__init__()\n",
    "        self.layer = nn.Sequential(\n",
    "            nn.MaxPool2d(2),\n",
    "            conv(in_ch, out_ch)\n",
    "        )\n",
    "\n",
    "    def forward(self, x):\n",
    "        x = self.layer(x)\n",
    "        return x\n",
    "\n",
    "\"\"\"\n",
    "# upsampling module equal to a upsample function followed by a conv module\n",
    "\"\"\"\n",
    "class up(nn.Module):\n",
    "    def __init__(self, in_ch, out_ch, bilinear=False):\n",
    "        super(up, self).__init__()\n",
    "        if bilinear:\n",
    "            self.up = nn.Upsample(scale_factor=2, mode=\"bilinear\", align_corners=True)\n",
    "            self.conv = conv(in_ch, out_ch, in_ch//2)\n",
    "        else:\n",
    "            self.up = nn.ConvTranspose2d(in_ch, in_ch//2, 2, stride=2)\n",
    "            self.conv = conv(in_ch, out_ch)\n",
    "\n",
    "    def forward(self, x1, x2):\n",
    "        y1 = self.up(x1)\n",
    "        shapey = x2.size()[2] - y1.size()[2]\n",
    "        shapex = x2.size()[3] - y1.size()[3]\n",
    "\n",
    "        y1 = F.pad(y1, [shapex//2, shapex-shapex//2, shapey//2, shapey-shapey//2])\n",
    "        y = self.conv(torch.cat([x2, y1], dim=1))\n",
    "        return y\n",
    "\n",
    "\"\"\"\n",
    "# the main model which you need to complete by using above modules.\n",
    "# you can also modify the above modules in order to improve your results.\n",
    "\"\"\"\n",
    "class MyModel(nn.Module):\n",
    "    def __init__(self, bilinear=False):\n",
    "        super(MyModel, self).__init__()\n",
    "        \n",
    "        # Encoder\n",
    "        self.input = conv(3, 64)\n",
    "        self.down1 = down(64, 128)\n",
    "        self.down2 = down(128, 256)\n",
    "        self.down3 = down(256, 512)\n",
    "\n",
    "        bl_fac = 2 if bilinear else 1\n",
    "        self.down4 = down(512, 1024//bl_fac)\n",
    "\n",
    "        # Decoder\n",
    "        self.up1 = up(1024, 512//bl_fac, bilinear)\n",
    "        self.up2 = up(512, 256//bl_fac, bilinear)\n",
    "        self.up3 = up(256, 128//bl_fac, bilinear)\n",
    "        self.up4 = up(128, 64, bilinear)\n",
    "        self.output = nn.Conv2d(64, 1, kernel_size=1)\n",
    "\n",
    "    def forward(self, input):\n",
    "        y1 = self.input(input)\n",
    "        y2 = self.down1(y1)\n",
    "        y3 = self.down2(y2)\n",
    "        y4 = self.down3(y3)\n",
    "        y5 = self.down4(y4)\n",
    "        y = self.up1(y5, y4)\n",
    "        y = self.up2(y, y3)\n",
    "        y = self.up3(y, y2)\n",
    "        y = self.up4(y, y1)\n",
    "        output = self.output(y)\n",
    "        return output"
   ]
  },
  {
   "cell_type": "markdown",
   "metadata": {},
   "source": [
    "### Loss Functions"
   ]
  },
  {
   "cell_type": "code",
   "execution_count": null,
   "metadata": {},
   "outputs": [],
   "source": [
    "e = 1                                   # just to avoid 0/0, larger value here would make the model less prone to overfitting\n",
    "\n",
    "def iou_loss(pred, mask):\n",
    "    mask = mask.squeeze(1).int()        # Batch * 1 * H * W -> Batch * H * W\n",
    "\n",
    "    pred = pred.squeeze(1)              # Batch * 1 * H * W -> Batch * H * W\n",
    "    pred = torch.sigmoid(pred)          # not needed if the model returns the output after passing through sigmoid\n",
    "    pred = (pred >= 0.5).int()          # if greater than 0.5 assign it 1 else 0\n",
    "\n",
    "    intersection = (pred & mask).float()\n",
    "    intersection = intersection.sum((1, 2))\n",
    "\n",
    "    union = (pred | mask).float()\n",
    "    union = union.sum((1, 2))\n",
    "\n",
    "    iou = (intersection + e) / (union + e)\n",
    "    return 1 - iou.mean()"
   ]
  },
  {
   "cell_type": "markdown",
   "metadata": {
    "id": "rQj86vD9QT_Z"
   },
   "source": [
    "### Training"
   ]
  },
  {
   "cell_type": "code",
   "execution_count": null,
   "metadata": {},
   "outputs": [],
   "source": [
    "\"\"\"\n",
    "# The following is a basic training procedure to train the network\n",
    "# You need to update the code to get the best performance\n",
    "# TODO: approx ? lines\n",
    "\"\"\"\n",
    "\n",
    "# Set the hyperparameters\n",
    "num_epochs = 50\n",
    "batch_size = 64\n",
    "learning_rate = 0.001\n",
    "weight_decay = 1e-4\n",
    "\n",
    "model = MyModel().cuda()                                                                    # move the model to GPU\n",
    "loader, _ = get_plane_dataset(\"train\", batch_size)                                          # initialize data_loader\n",
    "crit1 = nn.BCEWithLogitsLoss()                                                              # Define the loss function\n",
    "crit2 = iou_loss"
   ]
  },
  {
   "cell_type": "code",
   "execution_count": null,
   "metadata": {},
   "outputs": [],
   "source": [
    "optim = torch.optim.SGD(model.parameters(), lr=learning_rate, weight_decay=weight_decay)    # Initialize the optimizer as SGD\n",
    "total_losses, bce_losses, iou_losses = [], [], []\n",
    "\n",
    "# start the training procedure\n",
    "for epoch in range(num_epochs):\n",
    "    total_loss, bce_total, iou_total = 0, 0, 0\n",
    "    for (img, mask) in tqdm(loader):\n",
    "        img, mask = img.cuda(), mask.cuda()\n",
    "        pred = model(img)\n",
    "\n",
    "        bce = crit1(pred, mask)\n",
    "        iou = crit2(pred, mask)\n",
    "\n",
    "        bce_total += bce.data\n",
    "        iou_total += iou.data\n",
    "\n",
    "        loss = bce + iou\n",
    "\n",
    "        optim.zero_grad()\n",
    "        loss.backward()\n",
    "        optim.step()\n",
    "        total_loss += loss.data\n",
    "    print(\"Epoch: {}, Loss: {} ({}, {})\".format(epoch, total_loss.cpu()/len(loader), bce_total.cpu()/len(loader), iou_total.cpu()/len(loader)))\n",
    "\n",
    "    total_losses.append(total_loss.cpu()/len(loader))\n",
    "    bce_losses.append(bce_total.cpu()/len(loader))\n",
    "    iou_losses.append(iou_total.cpu()/len(loader))\n",
    "\n",
    "    torch.save(model.state_dict(), \"{}/output/{}_segmentation_model.pth\".format(BASE_DIR, epoch))\n",
    "\n",
    "\"\"\"\n",
    "# Saving the final model\n",
    "\"\"\"\n",
    "torch.save(model.state_dict(), \"{}/output/final_segmentation_model.pth\".format(BASE_DIR))"
   ]
  },
  {
   "cell_type": "code",
   "execution_count": null,
   "metadata": {},
   "outputs": [],
   "source": [
    "fig, axs = plt.subplots(nrows=3, ncols=1, figsize=(20, 14))\n",
    "fig.suptitle(\"The two losses over the epochs and their summation\", fontsize=16)\n",
    "\n",
    "axs[0].plot(range(1, 51), total_losses)\n",
    "axs[0].set_ylabel(\"Total Loss\")\n",
    "axs[0].set_xlabel(\"Epoch\")\n",
    "\n",
    "axs[1].plot(range(1, 51), bce_losses)\n",
    "axs[1].set_ylabel(\"BCE Loss\")\n",
    "axs[1].set_xlabel(\"Epoch\")\n",
    "\n",
    "axs[2].plot(range(1, 51), iou_losses)\n",
    "axs[2].set_ylabel(\"IoU Loss\")\n",
    "axs[2].set_xlabel(\"Epoch\")"
   ]
  },
  {
   "cell_type": "markdown",
   "metadata": {
    "id": "0dyez1fyQYw7"
   },
   "source": [
    "### Evaluation and Visualization"
   ]
  },
  {
   "cell_type": "markdown",
   "metadata": {},
   "source": [
    "#### Error Metric"
   ]
  },
  {
   "cell_type": "code",
   "execution_count": null,
   "metadata": {},
   "outputs": [],
   "source": [
    "def error_iou(pred, mask):\n",
    "    mask = mask.squeeze(1).int().cpu().numpy()\n",
    "\n",
    "    pred = pred.squeeze(1)                      # Batch * 1 * H * W -> Batch * H * W\n",
    "\n",
    "    pred = torch.sigmoid(pred).cpu().numpy()    # not needed if the model returns the output after passing through sigmoid\n",
    "    pred = (pred >= 0.5)                        # if greater than 0.5 assign it 1 else 0\n",
    "\n",
    "    intersection = (pred & mask)\n",
    "    intersection = intersection.sum((1, 2))\n",
    "\n",
    "    union = (pred | mask)\n",
    "    union = union.sum((1, 2))\n",
    "\n",
    "    iou = (intersection + e) / (union + e)\n",
    "    return iou.mean()"
   ]
  },
  {
   "cell_type": "code",
   "execution_count": null,
   "metadata": {},
   "outputs": [],
   "source": [
    "\"\"\"\n",
    "# Before starting the evaluation, you need to set the model mode to eval\n",
    "# You may load the trained model again, in case if you want to continue your code later\n",
    "# TODO: approx 15 lines\n",
    "\"\"\"\n",
    "batch_size = 8\n",
    "model = MyModel().cuda()\n",
    "model.load_state_dict(torch.load(\"{}/output/final50_segmentation_model.pth\".format(BASE_DIR)))\n",
    "model = model.eval()                # chaning the model to evaluation mode will fix the bachnorm layers\n",
    "loader, dataset = get_plane_dataset(\"val\", batch_size)\n",
    "\n",
    "total_iou = 0\n",
    "for (img, mask) in tqdm(loader):\n",
    "    with torch.no_grad():\n",
    "        img = img.cuda()\n",
    "        mask = mask.cuda()\n",
    "        pred = model(img)\n",
    "\n",
    "        \"\"\"\n",
    "        ## Complete the code by obtaining the IoU for each img and print the final Mean IoU\n",
    "        \"\"\"\n",
    "        total_iou = total_iou + error_iou(pred, mask)\n",
    "\n",
    "print(\"\\n #images: {}, Mean IoU: {}\".format(len(dataset), total_iou/len(loader)))"
   ]
  },
  {
   "cell_type": "code",
   "execution_count": null,
   "metadata": {
    "id": "jbmTj9JICiKz"
   },
   "outputs": [],
   "source": [
    "\"\"\"\n",
    "# Visualize 3 sample outputs\n",
    "# TODO: approx 5 lines\n",
    "\"\"\"\n",
    "vis_num = 3\n",
    "kernel = np.ones((3, 3), np.uint8)\n",
    "\n",
    "fig, axs = plt.subplots(nrows=vis_num, ncols=3, figsize=(20, 14))\n",
    "fig.suptitle(\"Visualizing 3 instances with their predicted and actual segmentation masks\", fontsize=16)\n",
    "\n",
    "random_idxs = list(np.random.randint(low=0, high=len(dataset)-1, size=vis_num))\n",
    "print(random_idxs)\n",
    "\n",
    "axs[0][0].set_title(\"Image\")\n",
    "axs[0][1].set_title(\"Segmentation Mask\")\n",
    "axs[0][2].set_title(\"Predicted Mask\")\n",
    "\n",
    "for idx in range(vis_num):\n",
    "    img, mask = np.transpose(dataset[random_idxs[idx]][0].numpy(), [1, 2, 0]), dataset[random_idxs[idx]][1].squeeze(0).numpy()\n",
    "\n",
    "    img = (img - np.min(img)) / (np.max(img) - np.min(img))         # Normalizing the image (for visualization)\n",
    "\n",
    "    pred_mask = model(dataset[random_idxs[idx]][0].unsqueeze(0).cuda()).squeeze(0).squeeze(0).cpu().detach()\n",
    "    pred_mask = torch.sigmoid(pred_mask)\n",
    "    pred_mask = (pred_mask >= 0.5).int().numpy()\n",
    "\n",
    "    axs[idx][0].imshow(img)\n",
    "    axs[idx][1].imshow(mask)\n",
    "    axs[idx][2].imshow(pred_mask)\n",
    "\n",
    "    axs[idx][0].set_xticks([])\n",
    "    axs[idx][0].set_yticks([])\n",
    "    axs[idx][1].set_xticks([])\n",
    "    axs[idx][1].set_yticks([])\n",
    "    axs[idx][2].set_xticks([])\n",
    "    axs[idx][2].set_yticks([])\n",
    "\n",
    "\n",
    "fig, axs = plt.subplots(nrows=vis_num, ncols=3, figsize=(20, 14))\n",
    "fig.suptitle(\"Visualizing 3 instances with their predicted and actual segmentation masks\", fontsize=16)\n",
    "\n",
    "axs[0][0].set_title(\"Image\")\n",
    "axs[0][1].set_title(\"Segmentation Mask\")\n",
    "axs[0][2].set_title(\"Predicted Mask\")\n",
    "\n",
    "for idx in range(vis_num):\n",
    "    img, mask = np.transpose(dataset[random_idxs[idx]][0].numpy(), [1, 2, 0]), dataset[random_idxs[idx]][1].squeeze(0).numpy()\n",
    "\n",
    "    img = (img - np.min(img)) / (np.max(img) - np.min(img))         # Normalizing the image (for visualization)\n",
    "\n",
    "    pred_mask = model(dataset[random_idxs[idx]][0].unsqueeze(0).cuda()).squeeze(0).squeeze(0).cpu().detach()\n",
    "    pred_mask = torch.sigmoid(pred_mask)\n",
    "    pred_mask = (pred_mask >= 0.5).int().numpy()\n",
    "    pred_mask = cv2.dilate(pred_mask.astype(\"uint8\"), kernel)\n",
    "\n",
    "    axs[idx][0].imshow(img)\n",
    "    axs[idx][1].imshow(mask)\n",
    "    axs[idx][2].imshow(pred_mask)\n",
    "\n",
    "    axs[idx][0].set_xticks([])\n",
    "    axs[idx][0].set_yticks([])\n",
    "    axs[idx][1].set_xticks([])\n",
    "    axs[idx][1].set_yticks([])\n",
    "    axs[idx][2].set_xticks([])\n",
    "    axs[idx][2].set_yticks([])"
   ]
  },
  {
   "cell_type": "markdown",
   "metadata": {
    "id": "navoiGdrqaZT"
   },
   "source": [
    "## Part 3: Instance Segmentation\n",
    "\n",
    "In this part, you need to obtain the instance segmentation results for the test data by using the trained segmentation model in the previous part and the detection model in Part 1."
   ]
  },
  {
   "cell_type": "markdown",
   "metadata": {
    "id": "vBwk33DGBowP"
   },
   "source": [
    "### Get Prediction"
   ]
  },
  {
   "cell_type": "code",
   "execution_count": null,
   "metadata": {},
   "outputs": [],
   "source": [
    "\"\"\"\n",
    "# Define a new function to obtain the prediction mask by passing a sample data\n",
    "# For this part, you need to use all the previous parts (predictor, get_instance_sample, data preprocessings, etc)\n",
    "# It is better to keep everything (as well as the output of this funcion) on gpu as tensors to speed up the operations.\n",
    "# pred_mask is the instance segmentation result and should have different values for different planes.\n",
    "# TODO: approx 35 lines\n",
    "\"\"\"\n",
    "\n",
    "model = MyModel().cuda()\n",
    "model.load_state_dict(torch.load(\"{}/output/final50_segmentation_model.pth\".format(BASE_DIR)))\n",
    "model = model.eval() # chaning the model to evaluation mode will fix the bachnorm layers\n",
    "\n",
    "def get_prediction_mask(data):\n",
    "    width, height = data[\"width\"], data[\"height\"]\n",
    "\n",
    "    pred_mask = np.zeros((height, width))\n",
    "    gt_mask = np.zeros((height, width))                                 # Need to initialize this so there is no error for the testing phase\n",
    "\n",
    "    img = cv2.imread(data[\"file_name\"])\n",
    "\n",
    "    seg_transforms = transforms.Compose([\n",
    "        transforms.ToTensor(),                                          # Converting the image to tensor and change the image format (Channels-Last => Channels-First)\n",
    "        transforms.Normalize(mean = [0.50867474, 0.5278123, 0.5297691],\n",
    "                             std = [0.22613746, 0.22742623, 0.2254186])\n",
    "    ])\n",
    "\n",
    "    # Training and Validation\n",
    "    if data[\"annotations\"]:\n",
    "        for idx in range(len(data[\"annotations\"])):\n",
    "            bbox = data[\"annotations\"][idx][\"bbox\"]\n",
    "            bbx, bby, bbw, bbh = [round(item) for item in bbox]\n",
    "\n",
    "            mask = data[\"annotations\"][idx][\"segmentation\"]\n",
    "            mask = GenericMask(mask, data[\"height\"], data[\"width\"]).mask\n",
    "            mask = mask[bby:bby + bbh, bbx:bbx + bbw]\n",
    "\n",
    "            gt_mask[bby:bby+bbh, bbx:bbx+bbw] = (idx+1) * mask\n",
    "\n",
    "            crop_image = np.array(cv2.resize(img[bby:bby+bbh, bbx:bbx+bbw, :], (128, 128), interpolation=cv2.INTER_NEAREST))\n",
    "            crop_image = seg_transforms(crop_image).cuda()\n",
    "\n",
    "            pred_mask_temp = torch.sigmoid(model(crop_image.unsqueeze(0))).squeeze(1).squeeze(0).detach().cpu().numpy()\n",
    "            pred_mask_temp = cv2.resize(pred_mask_temp, (bbw, bbh), interpolation=cv2.INTER_NEAREST)\n",
    "            pred_mask_temp = np.array(pred_mask_temp >= 0.5, dtype=np.int64)\n",
    "            pred_mask_temp = cv2.dilate(pred_mask_temp.astype(\"uint8\"), kernel)\n",
    "\n",
    "            pred_mask[bby:bby+bbh, bbx:bbx+bbw] = (idx+1) * pred_mask_temp\n",
    "    # Testing\n",
    "    else:\n",
    "        divided_images = divide_into_blocks(data, img)\n",
    "\n",
    "        for height_blk in range(len(divided_images)):\n",
    "            for width_blk in range(len(divided_images[0])):\n",
    "                div_img = divided_images[height_blk][width_blk]\n",
    "                block_height, block_width, _ = div_img.shape\n",
    "\n",
    "                div_pred_mask = np.zeros((block_height, block_width))\n",
    "                detectron_pred = mask_predictor(div_img)\n",
    "                pred_bboxes = detectron_pred[\"instances\"].pred_boxes\n",
    "\n",
    "                for idx, bbox in enumerate(pred_bboxes):\n",
    "                    x1, y1, x2, y2 = [round(item) for item in bbox.cpu().numpy().tolist()]\n",
    "                    # cropped image resized to 128 * 128 * 3\n",
    "                    crop_image = np.array(cv2.resize(div_img[y1:y2, x1:x2, :], (128, 128), interpolation=cv2.INTER_NEAREST))\n",
    "\n",
    "                    # applying the transforms\n",
    "                    crop_image = seg_transforms(crop_image).cuda()\n",
    "\n",
    "                    pred_mask_temp = torch.sigmoid(model(crop_image.unsqueeze(0))).squeeze(1).squeeze(0).detach().cpu().numpy()\n",
    "                    pred_mask_temp = cv2.resize(pred_mask_temp, (x2 - x1, y2 - y1), interpolation=cv2.INTER_NEAREST)\n",
    "                    pred_mask_temp = np.array(pred_mask_temp >= 0.5, dtype=np.int64)\n",
    "                    pred_mask_temp = cv2.dilate(pred_mask_temp.astype(\"uint8\"), kernel)\n",
    "\n",
    "                    div_pred_mask[y1:y2, x1:x2] = (idx+1) * pred_mask_temp\n",
    "                pred_mask[height_blk*block_height:(height_blk+1)*block_height, width_blk*block_width:(width_blk+1)*block_width] = div_pred_mask\n",
    "    return img, gt_mask, torch.tensor(pred_mask, device=\"cuda\")         # gt_mask could be all zero when the ground truth is not given."
   ]
  },
  {
   "cell_type": "markdown",
   "metadata": {
    "id": "fc7TSK6EBi9u"
   },
   "source": [
    "### Visualization and Submission"
   ]
  },
  {
   "cell_type": "code",
   "execution_count": null,
   "metadata": {
    "id": "H7T2YX8MBiGO"
   },
   "outputs": [],
   "source": [
    "\"\"\"\n",
    "# Visualise the output prediction as well as the GT Mask and Input image for a sample input\n",
    "# TODO: approx 10 lines\n",
    "\"\"\"\n",
    "fig, axs = plt.subplots(nrows=vis_num, ncols=3, figsize=(20, 15))\n",
    "fig.suptitle(\"Visualizing 3 random images from test set\", fontsize=16)\n",
    "\n",
    "axs[0][0].set_title(\"Image\")\n",
    "axs[0][1].set_title(\"Segmentation Mask\")\n",
    "axs[0][2].set_title(\"Predicted Mask\")\n",
    "\n",
    "random_test = [item for item in random.sample(DatasetCatalog.get(\"data_detection_test\"), vis_num)]\n",
    "\n",
    "for idx in range(vis_num):\n",
    "    img, gt_mask, pred_mask = get_prediction_mask(random_test[idx])\n",
    "    \n",
    "    axs[idx][0].imshow(img)\n",
    "    axs[idx][1].imshow(gt_mask)\n",
    "    axs[idx][2].imshow(pred_mask.cpu())\n",
    "\n",
    "    axs[idx][0].set_xticks([])\n",
    "    axs[idx][0].set_yticks([])\n",
    "    axs[idx][1].set_xticks([])\n",
    "    axs[idx][1].set_yticks([])\n",
    "    axs[idx][2].set_xticks([])\n",
    "    axs[idx][2].set_yticks([])"
   ]
  },
  {
   "cell_type": "code",
   "execution_count": null,
   "metadata": {},
   "outputs": [],
   "source": [
    "\"\"\"\n",
    "# ref: https://www.kaggle.com/rakhlin/fast-run-length-encoding-python\n",
    "# https://www.kaggle.com/c/airbus-ship-detection/overview/evaluation\n",
    "\"\"\"\n",
    "def rle_encoding(x):\n",
    "    \"\"\"\n",
    "    x: pytorch tensor on gpu, 1 - mask, 0 - background\n",
    "    Returns run length as list\n",
    "    \"\"\"\n",
    "    dots = torch.where(torch.flatten(x.long())==1)[0]\n",
    "    if(len(dots)==0):\n",
    "        return []\n",
    "    inds = torch.where(dots[1:]!=dots[:-1]+1)[0]+1\n",
    "    inds = torch.cat((torch.tensor([0], device=torch.device(\"cuda\"), dtype=torch.long), inds))\n",
    "    tmpdots = dots[inds]\n",
    "    inds = torch.cat((inds, torch.tensor([len(dots)], device=torch.device(\"cuda\"))))\n",
    "    inds = inds[1:] - inds[:-1]\n",
    "    runs = torch.cat((tmpdots, inds)).reshape((2,-1))\n",
    "    runs = torch.flatten(torch.transpose(runs, 0, 1)).cpu().data.numpy()\n",
    "    return \" \".join([str(i) for i in runs])"
   ]
  },
  {
   "cell_type": "code",
   "execution_count": null,
   "metadata": {},
   "outputs": [],
   "source": [
    "\"\"\"\n",
    "# You need to upload the csv file on kaggle\n",
    "# The speed of your code in the previous parts highly affects the running time of this part\n",
    "\"\"\"\n",
    "\n",
    "preddic = {\"ImageId\": [], \"EncodedPixels\": []}\n",
    "\n",
    "\"\"\"\n",
    "# Writing the predictions of the training set\n",
    "\"\"\"\n",
    "my_data_list = DatasetCatalog.get(\"data_detection_{}\".format(\"train\")) + DatasetCatalog.get(\"data_detection_{}\".format(\"val\"))\n",
    "for i in tqdm(range(len(my_data_list)), position=0, leave=True):\n",
    "    sample = my_data_list[i]\n",
    "    sample[\"image_id\"] = sample[\"file_name\"].split(\"/\")[-1][:-4]\n",
    "    img, true_mask, pred_mask = get_prediction_mask(sample)\n",
    "    inds = torch.unique(pred_mask)\n",
    "    if(len(inds)==1):\n",
    "        preddic[\"ImageId\"].append(sample[\"image_id\"])\n",
    "        preddic[\"EncodedPixels\"].append([])\n",
    "    else:\n",
    "        for index in inds:\n",
    "            if(index == 0):\n",
    "                continue\n",
    "            tmp_mask = (pred_mask==index)\n",
    "            encPix = rle_encoding(tmp_mask)\n",
    "            preddic[\"ImageId\"].append(sample[\"image_id\"])\n",
    "            preddic[\"EncodedPixels\"].append(encPix)\n",
    "\n",
    "\"\"\"\n",
    "# Writing the predictions of the test set\n",
    "\"\"\"\n",
    "my_data_list = DatasetCatalog.get(\"data_detection_{}\".format(\"test\"))\n",
    "for i in tqdm(range(len(my_data_list)), position=0, leave=True):\n",
    "    sample = my_data_list[i]\n",
    "    sample[\"image_id\"] = sample[\"file_name\"].split(\"/\")[-1][:-4]\n",
    "    img, true_mask, pred_mask = get_prediction_mask(sample)\n",
    "    inds = torch.unique(pred_mask)\n",
    "    if(len(inds)==1):\n",
    "        preddic[\"ImageId\"].append(sample[\"image_id\"])\n",
    "        preddic[\"EncodedPixels\"].append([])\n",
    "    else:\n",
    "        for j, index in enumerate(inds):\n",
    "            if(index == 0):\n",
    "                continue\n",
    "            tmp_mask = (pred_mask==index).double()\n",
    "            encPix = rle_encoding(tmp_mask)\n",
    "            preddic[\"ImageId\"].append(sample[\"image_id\"])\n",
    "            preddic[\"EncodedPixels\"].append(encPix)\n",
    "\n",
    "pred_file = open(\"{}/pred.csv\".format(BASE_DIR), \"w\")\n",
    "pd.DataFrame(preddic).to_csv(pred_file, index=False)\n",
    "pred_file.close()"
   ]
  },
  {
   "cell_type": "markdown",
   "metadata": {
    "id": "p7nN4SduqrpI"
   },
   "source": [
    "## Part 4: Mask R-CNN\n",
    "\n",
    "For this part you need to follow a same procedure to part 2 with the configs of Mask R-CNN, other parts are generally the same as part 2."
   ]
  },
  {
   "cell_type": "markdown",
   "metadata": {
    "id": "axWf7drKNXYd"
   },
   "source": [
    "### Data Loader"
   ]
  },
  {
   "cell_type": "code",
   "execution_count": null,
   "metadata": {
    "id": "yC1FDCcQN2LH"
   },
   "outputs": [],
   "source": []
  },
  {
   "cell_type": "markdown",
   "metadata": {
    "id": "lG5slAhQNjE7"
   },
   "source": [
    "### Network"
   ]
  },
  {
   "cell_type": "code",
   "execution_count": null,
   "metadata": {},
   "outputs": [],
   "source": [
    "cfg = get_cfg()\n",
    "cfg.OUTPUT_DIR = \"{}/output/\".format(BASE_DIR)\n",
    "\n",
    "cfg.merge_from_file(model_zoo.get_config_file(\"COCO-InstanceSegmentation/mask_rcnn_R_50_FPN_3x.yaml\"))\n",
    "cfg.DATASETS.TRAIN = (\"data_block_detection_train\",)\n",
    "cfg.DATASETS.TEST = (\"data_block_detection_val\",)\n",
    "cfg.DATALOADER.NUM_WORKERS = 2\n",
    "cfg.MODEL.WEIGHTS = model_zoo.get_checkpoint_url(\"COCO-InstanceSegmentation/mask_rcnn_R_50_FPN_3x.yaml\")\n",
    "cfg.SOLVER.IMS_PER_BATCH = 4\n",
    "cfg.SOLVER.BASE_LR = 0.00025\n",
    "cfg.SOLVER.MAX_ITER = 5000                                                                              # updated from 500\n",
    "cfg.SOLVER.STEPS = []\n",
    "\n",
    "cfg.MODEL.ROI_HEADS.NUM_CLASSES = 1                                                                     # plane is the only class"
   ]
  },
  {
   "cell_type": "markdown",
   "metadata": {
    "id": "t7ifeV1sNvtt"
   },
   "source": [
    "### Training"
   ]
  },
  {
   "cell_type": "code",
   "execution_count": null,
   "metadata": {
    "id": "tc4K0Nz5OeKk"
   },
   "outputs": [],
   "source": [
    "trainer = DefaultTrainer(cfg)\n",
    "trainer.resume_or_load(resume=False)\n",
    "trainer.train()"
   ]
  },
  {
   "cell_type": "markdown",
   "metadata": {
    "id": "298QruFnNxyn"
   },
   "source": [
    "### Evaluation and Visualization"
   ]
  },
  {
   "cell_type": "code",
   "execution_count": null,
   "metadata": {},
   "outputs": [],
   "source": [
    "%load_ext tensorboard\n",
    "%tensorboard --logdir=output"
   ]
  },
  {
   "cell_type": "code",
   "execution_count": null,
   "metadata": {},
   "outputs": [],
   "source": [
    "cfg.MODEL.WEIGHTS = os.path.join(cfg.OUTPUT_DIR, \"model_final.pth\")\n",
    "cfg.MODEL.ROI_HEADS.SCORE_THRESH_TEST = 0.6                             # 0.7\n",
    "\n",
    "mask_predictor = DefaultPredictor(cfg)"
   ]
  },
  {
   "cell_type": "code",
   "execution_count": null,
   "metadata": {},
   "outputs": [],
   "source": []
  },
  {
   "cell_type": "code",
   "execution_count": null,
   "metadata": {
    "id": "KcGwV5-9Oetp"
   },
   "outputs": [],
   "source": [
    "\"\"\"\n",
    "# Visualize the output for 3 random test samples\n",
    "# TODO: approx 10 lines\n",
    "\"\"\"\n",
    "fig, axs = plt.subplots(nrows=2, ncols=3, figsize=(20, 15))\n",
    "fig.suptitle(\"Visualizing 6 random prediction results\", fontsize=22)\n",
    "\n",
    "random_test = [item for item in random.sample(DatasetCatalog.get(\"data_detection_val\"), 6)]\n",
    "num = 0\n",
    "\n",
    "for row in range(axs.shape[0]):\n",
    "    for col in range(axs.shape[1]):\n",
    "        image = cv2.imread(random_test[num][\"file_name\"])\n",
    "        width, height = random_test[num][\"width\"], random_test[num][\"height\"]\n",
    "        full_image = np.zeros(image.shape)\n",
    "        divided_images = divide_into_blocks(random_test[num], image)\n",
    "\n",
    "        for height_blk in range(len(divided_images)):\n",
    "            for width_blk in range(len(divided_images[0])):\n",
    "                img = divided_images[height_blk][width_blk]\n",
    "                outputs = mask_predictor(img)\n",
    "                visualizer = Visualizer(img[:, :, ::-1],\n",
    "                                    metadata=full_val_meta,\n",
    "                                    instance_mode=ColorMode.IMAGE_BW)    # scale divides the image (very troublesome)\n",
    "                visualizer._default_font_size = 4\n",
    "                out = visualizer.draw_instance_predictions(outputs[\"instances\"].to(\"cpu\"))\n",
    "                out_img = out.get_image()[:, :, ::-1]\n",
    "                block_height, block_width, _ = out_img.shape\n",
    "\n",
    "                full_image[height_blk*block_height:(height_blk+1)*block_height, width_blk*block_width:(width_blk+1)*block_width] = out_img\n",
    "\n",
    "        # normalizing the image so it does not get clipped by matplotlib\n",
    "        full_image = (full_image - np.min(full_image)) / (np.max(full_image) - np.min(full_image))\n",
    "\n",
    "        axs[row, col].imshow(full_image)\n",
    "        axs[row, col].set_xticks([])\n",
    "        axs[row, col].set_yticks([])\n",
    "        num += 1"
   ]
  },
  {
   "cell_type": "code",
   "execution_count": null,
   "metadata": {
    "id": "l_3wS2BFLLGp"
   },
   "outputs": [],
   "source": [
    "evaluator = COCOEvaluator(\"data_block_detection_val\", output_dir=cfg.OUTPUT_DIR)\n",
    "test_loader = build_detection_test_loader(cfg, \"data_block_detection_val\")\n",
    "print(inference_on_dataset(trainer.model, test_loader, evaluator))"
   ]
  },
  {
   "cell_type": "code",
   "execution_count": null,
   "metadata": {},
   "outputs": [],
   "source": [
    "fig, axs = plt.subplots(nrows=vis_num, ncols=3, figsize=(20, 15))\n",
    "fig.suptitle(\"Visualizing 3 random images from test set\", fontsize=16)\n",
    "\n",
    "axs[0][0].set_title(\"Detection (Part 1)\")\n",
    "axs[0][1].set_title(\"Instance Segmentation Mask (Part 3)\")\n",
    "axs[0][2].set_title(\"Mask RCNN IS Mask\")\n",
    "random_test = [item for item in random.sample(DatasetCatalog.get(\"data_detection_test\"), vis_num)]\n",
    "\n",
    "for idx in range(vis_num):\n",
    "    img, gt_mask, pred_mask = get_prediction_mask(random_test[idx])\n",
    "\n",
    "    det_full_image = np.zeros(img.shape)\n",
    "    mask_full_image = np.zeros(img.shape)\n",
    "\n",
    "    divided_images = divide_into_blocks(random_test[idx], img)\n",
    "    for height_blk in range(len(divided_images)):\n",
    "            for width_blk in range(len(divided_images[0])):\n",
    "                # Mask RCNN Image\n",
    "                block_img = divided_images[height_blk][width_blk]\n",
    "                outputs = mask_predictor(block_img)\n",
    "                visualizer = Visualizer(block_img[:, :, ::-1],\n",
    "                                    metadata=full_test_meta,\n",
    "                                    instance_mode=ColorMode.IMAGE_BW)    # scale divides the image (very troublesome)\n",
    "                visualizer._default_font_size = 4\n",
    "                out = visualizer.draw_instance_predictions(outputs[\"instances\"].to(\"cpu\"))\n",
    "                out_img = out.get_image()[:, :, ::-1]\n",
    "                block_height, block_width, _ = out_img.shape\n",
    "\n",
    "                mask_full_image[height_blk*block_height:(height_blk+1)*block_height, width_blk*block_width:(width_blk+1)*block_width] = out_img\n",
    "\n",
    "                # Detection Image\n",
    "                outputs = predictor(block_img)\n",
    "                visualizer = Visualizer(block_img[:, :, ::-1],\n",
    "                                    metadata=full_test_meta)              # scale divides the image (very troublesome)\n",
    "                visualizer._default_font_size = 4\n",
    "                out = visualizer.draw_instance_predictions(outputs[\"instances\"].to(\"cpu\"))\n",
    "                out_img = out.get_image()[:, :, ::-1]\n",
    "                block_height, block_width, _ = out_img.shape\n",
    "\n",
    "                det_full_image[height_blk*block_height:(height_blk+1)*block_height, width_blk*block_width:(width_blk+1)*block_width] = out_img\n",
    "\n",
    "    # normalizing the image so it does not get clipped by matplotlib\n",
    "    det_full_image = (det_full_image - np.min(det_full_image)) / (np.max(det_full_image) - np.min(det_full_image))\n",
    "    mask_full_image = (mask_full_image - np.min(mask_full_image)) / (np.max(mask_full_image) - np.min(mask_full_image))\n",
    "\n",
    "    axs[idx][0].imshow(det_full_image)\n",
    "    axs[idx][1].imshow(pred_mask.cpu())\n",
    "    axs[idx][2].imshow(mask_full_image)\n",
    "\n",
    "    axs[idx][0].set_xticks([])\n",
    "    axs[idx][0].set_yticks([])\n",
    "    axs[idx][1].set_xticks([])\n",
    "    axs[idx][1].set_yticks([])\n",
    "    axs[idx][2].set_xticks([])\n",
    "    axs[idx][2].set_yticks([])"
   ]
  }
 ],
 "metadata": {
  "accelerator": "GPU",
  "colab": {
   "collapsed_sections": [],
   "name": "lab3.ipynb",
   "provenance": []
  },
  "kernelspec": {
   "display_name": "Python 3 (ipykernel)",
   "language": "python",
   "name": "python3"
  },
  "language_info": {
   "codemirror_mode": {
    "name": "ipython",
    "version": 3
   },
   "file_extension": ".py",
   "mimetype": "text/x-python",
   "name": "python",
   "nbconvert_exporter": "python",
   "pygments_lexer": "ipython3",
   "version": "3.8.7"
  }
 },
 "nbformat": 4,
 "nbformat_minor": 1
}
