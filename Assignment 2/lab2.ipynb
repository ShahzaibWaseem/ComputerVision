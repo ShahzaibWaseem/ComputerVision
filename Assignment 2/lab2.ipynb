{
 "cells": [
  {
   "cell_type": "markdown",
   "metadata": {
    "colab_type": "text",
    "id": "wmCbxoDrADcF"
   },
   "source": [
    "# Google Colab setup with Google Drive folder\n",
    "\n",
    "This notebook provides the code you need to set up Google Colab to run and import files from within a Google Drive folder.\n",
    "\n",
    "This will allow you to upload assignment code to your Google Drive and then run the code on Google Colab machines (with free GPUs if needed). \n",
    "\n",
    "You will need to create a folder in your Google Drive to hold your assignments and you will need to open Colaboratory within this folder before running the set up code (check the link above to see how)."
   ]
  },
  {
   "cell_type": "markdown",
   "metadata": {
    "colab_type": "text",
    "id": "zWhrmhqVCyGH"
   },
   "source": [
    "# Mount Google Drive\n",
    "\n",
    "This will allow the Colab machine to access Google Drive folders by mounting the drive on the machine. You will be asked to copy and paste an authentication code."
   ]
  },
  {
   "cell_type": "code",
   "execution_count": null,
   "metadata": {
    "colab": {},
    "colab_type": "code",
    "id": "Wv2oKmF9AJtI"
   },
   "outputs": [],
   "source": [
    "from google.colab import drive\n",
    "drive.mount('/content/gdrive/')"
   ]
  },
  {
   "cell_type": "code",
   "execution_count": null,
   "metadata": {
    "colab": {},
    "colab_type": "code",
    "id": "kKGxaMcmP_Et"
   },
   "outputs": [],
   "source": [
    "ls"
   ]
  },
  {
   "cell_type": "markdown",
   "metadata": {
    "colab_type": "text",
    "id": "4Qs04PPwDOFy"
   },
   "source": [
    "# Change directory to allow imports\n",
    "\n",
    "\n",
    "As noted above, you should create a Google Drive folder to hold all your assignment files. You will need to add this code to the top of any python notebook you run to be able to import python files from your drive assignment folder (you should change the file path below to be your own assignment folder). Following the hand-out, you should have a directory \"SFU_CMPT_CV_lab2\" on g-drive, which should have a directory \"data\", which contains three tar.gz files."
   ]
  },
  {
   "cell_type": "code",
   "execution_count": null,
   "metadata": {
    "colab": {},
    "colab_type": "code",
    "id": "UA2-UyfpEc9O"
   },
   "outputs": [],
   "source": [
    "import os\n",
    "os.chdir(\"/content/gdrive/My Drive/SFU_CMPT_CV_lab2\")"
   ]
  },
  {
   "cell_type": "code",
   "execution_count": 1,
   "metadata": {
    "colab": {},
    "colab_type": "code",
    "id": "gyRCWAIyRHWc"
   },
   "outputs": [
    {
     "name": "stdout",
     "output_type": "stream",
     "text": [
      "2022-spring-sfu-cmpt-image-classification.zip  lab2.ipynb  submission_netid.csv\n",
      "data\t\t\t\t\t       plot.png\n",
      "\u001b[34;42m.\u001b[00m\n",
      "├── \u001b[01;31m2022-spring-sfu-cmpt-image-classification.zip\u001b[00m\n",
      "├── \u001b[01;34mdata\u001b[00m\n",
      "│   ├── \u001b[01;34mcifar100\u001b[00m\n",
      "│   ├── \u001b[01;31mcifar100.tar.gz\u001b[00m\n",
      "│   ├── \u001b[01;34mtest\u001b[00m\n",
      "│   ├── \u001b[01;31mtest.tar.gz\u001b[00m\n",
      "│   ├── \u001b[01;34mtrain\u001b[00m\n",
      "│   └── \u001b[01;31mtrain.tar.gz\u001b[00m\n",
      "├── \u001b[01;32mlab2.ipynb\u001b[00m\n",
      "├── \u001b[01;35mplot.png\u001b[00m\n",
      "└── submission_netid.csv\n",
      "\n",
      "4 directories, 7 files\n"
     ]
    }
   ],
   "source": [
    "! ls # Check if this is your folder\n",
    "! tree -L 2"
   ]
  },
  {
   "cell_type": "code",
   "execution_count": null,
   "metadata": {},
   "outputs": [],
   "source": []
  },
  {
   "cell_type": "markdown",
   "metadata": {
    "colab_type": "text",
    "id": "SJOCaUMilRz_"
   },
   "source": [
    "# Copy data to local dir"
   ]
  },
  {
   "cell_type": "code",
   "execution_count": 2,
   "metadata": {
    "colab": {},
    "colab_type": "code",
    "id": "90MxG_eRla0W"
   },
   "outputs": [],
   "source": [
    "# ! mkdir data\n",
    "# ! cp data/cifar100.tar.gz data/\n",
    "! tar -xf data/cifar100.tar.gz -C data/\n",
    "# ! cp data/test.tar.gz data\n",
    "! tar -xf data/test.tar.gz -C data\n",
    "# ! cp data/train.tar.gz data\n",
    "! tar -xf data/train.tar.gz -C data/"
   ]
  },
  {
   "cell_type": "markdown",
   "metadata": {
    "colab_type": "text",
    "id": "DDU5aVgR9QBx"
   },
   "source": [
    "# Set up GPU and PyTorch\n",
    "\n",
    "First, ensure that your notebook on Colaboratory is set up to use GPU. After opening the notebook on Colaboratory, go to Edit>Notebook settings, select Python 3 under \"Runtime type,\" select GPU under \"Hardware accelerator,\" and save.\n",
    "\n",
    "Next, install PyTorch:"
   ]
  },
  {
   "cell_type": "code",
   "execution_count": null,
   "metadata": {
    "colab": {},
    "colab_type": "code",
    "id": "kjbQtzKT9Uc2"
   },
   "outputs": [],
   "source": [
    "!pip3 install torch torchvision"
   ]
  },
  {
   "cell_type": "markdown",
   "metadata": {
    "colab_type": "text",
    "id": "u_BekZYY9Vzx"
   },
   "source": [
    "Make sure that pytorch is installed and works with GPU:"
   ]
  },
  {
   "cell_type": "code",
   "execution_count": 8,
   "metadata": {
    "colab": {},
    "colab_type": "code",
    "id": "8TXSJWQa9efx"
   },
   "outputs": [
    {
     "name": "stdout",
     "output_type": "stream",
     "text": [
      "tensor([1.], device='cuda:0')\n"
     ]
    }
   ],
   "source": [
    "import torch\n",
    "a = torch.Tensor([1]).cuda()\n",
    "print(a)"
   ]
  },
  {
   "cell_type": "code",
   "execution_count": 9,
   "metadata": {
    "colab": {},
    "colab_type": "code",
    "id": "OEeRNsCjRXZK"
   },
   "outputs": [
    {
     "data": {
      "text/plain": [
       "True"
      ]
     },
     "execution_count": 9,
     "metadata": {},
     "output_type": "execute_result"
    }
   ],
   "source": [
    "torch.cuda.is_available()"
   ]
  },
  {
   "cell_type": "code",
   "execution_count": 10,
   "metadata": {},
   "outputs": [
    {
     "data": {
      "text/plain": [
       "'1.8.1+cu111'"
      ]
     },
     "execution_count": 10,
     "metadata": {},
     "output_type": "execute_result"
    }
   ],
   "source": [
    "torch.__version__"
   ]
  },
  {
   "cell_type": "markdown",
   "metadata": {
    "colab_type": "text",
    "id": "qChgLJERsvZP"
   },
   "source": [
    "# Part 1"
   ]
  },
  {
   "cell_type": "code",
   "execution_count": 11,
   "metadata": {
    "colab": {},
    "colab_type": "code",
    "id": "IlyCnvf6WzjR"
   },
   "outputs": [
    {
     "data": {
      "text/plain": [
       "<torch._C.Generator at 0x7fd3d3f9eed0>"
      ]
     },
     "execution_count": 11,
     "metadata": {},
     "output_type": "execute_result"
    }
   ],
   "source": [
    "\"\"\"Headers\"\"\"\n",
    "\n",
    "from __future__ import print_function\n",
    "from PIL import Image\n",
    "import os\n",
    "import os.path\n",
    "import numpy as np\n",
    "import sys\n",
    "if sys.version_info[0] == 2:\n",
    "    import cPickle as pickle\n",
    "else:\n",
    "    import pickle\n",
    "\n",
    "import torch.utils.data as data\n",
    "from torchvision.datasets.utils import download_url, check_integrity\n",
    "\n",
    "import csv\n",
    "%matplotlib inline\n",
    "import matplotlib\n",
    "import matplotlib.pyplot as plt\n",
    "import numpy as np\n",
    "import os.path\n",
    "import sys\n",
    "import torch\n",
    "import torch.utils.data\n",
    "import torchvision\n",
    "import torchvision.transforms as transforms\n",
    "\n",
    "from torch.autograd import Variable\n",
    "import torch.nn as nn\n",
    "import torch.nn.functional as F\n",
    "\n",
    "np.random.seed(111)\n",
    "torch.cuda.manual_seed_all(111)\n",
    "torch.manual_seed(111)"
   ]
  },
  {
   "cell_type": "markdown",
   "metadata": {
    "colab_type": "text",
    "id": "137GhZMrcTuj"
   },
   "source": [
    "\n",
    "\n",
    "## **Just execute the cell below. This is the dataloader. DO NOT CHANGE ANYTHING IN HERE!**\n"
   ]
  },
  {
   "cell_type": "code",
   "execution_count": 5,
   "metadata": {
    "colab": {},
    "colab_type": "code",
    "id": "URUH4fzzWqKr"
   },
   "outputs": [],
   "source": [
    "\"\"\"\"\"\"\n",
    "\n",
    "class CIFAR10_SFU_CV(data.Dataset):\n",
    "    \"\"\"`CIFAR10 <https://www.cs.toronto.edu/~kriz/cifar.html>`_ Dataset.\n",
    "\n",
    "    Args:\n",
    "        root (string): Root directory of dataset where directory\n",
    "            ``cifar-10-batches-py`` exists or will be saved to if download is set to True.\n",
    "        train (bool, optional): If True, creates dataset from training set, otherwise\n",
    "            creates from test set.\n",
    "        transform (callable, optional): A function/transform that  takes in an PIL image\n",
    "            and returns a transformed version. E.g, ``transforms.RandomCrop``\n",
    "        target_transform (callable, optional): A function/transform that takes in the\n",
    "            target and transforms it.\n",
    "        download (bool, optional): If true, downloads the dataset from the internet and\n",
    "            puts it in root directory. If dataset is already downloaded, it is not\n",
    "            downloaded again.\n",
    "\n",
    "    \"\"\"\n",
    "    base_folder = 'cifar100'\n",
    "    url = \"https://www.cs.toronto.edu/~kriz/cifar-10-python.tar.gz\"\n",
    "    filename = \"cifar100.tar.gz\"\n",
    "    tgz_md5 = 'c58f30108f718f92721af3b95e74349a'\n",
    "    train_list = [\n",
    "        ['data_batch_1', 'c99cafc152244af753f735de768cd75f'],\n",
    "        ['data_batch_2', 'd4bba439e000b95fd0a9bffe97cbabec'],\n",
    "        ['data_batch_3', '54ebc095f3ab1f0389bbae665268c751'],\n",
    "        ['data_batch_4', '634d18415352ddfa80567beed471001a'],\n",
    "        ['data_batch_5', '482c414d41f54cd18b22e5b47cb7c3cb'],\n",
    "    ]\n",
    "\n",
    "    test_list = [\n",
    "        ['test_batch', '40351d587109b95175f43aff81a1287e'],\n",
    "    ]\n",
    "\n",
    "    def __init__(self, root, fold=\"train\",\n",
    "                 transform=None, target_transform=None,\n",
    "                 download=False):\n",
    "        \n",
    "        fold = fold.lower()\n",
    "\n",
    "        self.train = False\n",
    "        self.test = False\n",
    "        self.val = False\n",
    "\n",
    "        if fold == \"train\":\n",
    "            self.train = True\n",
    "        elif fold == \"test\":\n",
    "            self.test = True\n",
    "        elif fold == \"val\":\n",
    "            self.val = True\n",
    "        else:\n",
    "            raise RuntimeError(\"Not train-val-test\")\n",
    "\n",
    "\n",
    "        self.root = os.path.expanduser(root)\n",
    "        self.transform = transform\n",
    "        self.target_transform = target_transform\n",
    "\n",
    "        fpath = os.path.join(root, self.filename)\n",
    "        if not self._check_integrity():\n",
    "            raise RuntimeError('Dataset not found or corrupted.' +\n",
    "                               ' Download it and extract the file again.')\n",
    "\n",
    "        # now load the picked numpy arrays\n",
    "        if self.train or self.val:\n",
    "            self.train_data = []\n",
    "            self.train_labels = []\n",
    "            for fentry in self.train_list:\n",
    "                f = fentry[0]\n",
    "                file = os.path.join(self.root, self.base_folder, f)\n",
    "                fo = open(file, 'rb')\n",
    "                if sys.version_info[0] == 2:\n",
    "                    entry = pickle.load(fo)\n",
    "                else:\n",
    "                    entry = pickle.load(fo, encoding='latin1')\n",
    "                self.train_data.append(entry['data'])\n",
    "                if 'labels' in entry:\n",
    "                    self.train_labels += entry['labels']\n",
    "                else:\n",
    "                    self.train_labels += entry['fine_labels']\n",
    "                fo.close()\n",
    "\n",
    "            self.train_data = np.concatenate(self.train_data)\n",
    "            self.train_data = self.train_data.reshape((50000, 3, 32, 32))\n",
    "            self.train_data = self.train_data.transpose((0, 2, 3, 1))  # convert to HWC\n",
    "            \n",
    "            p = np.arange(0,50000,10)\n",
    "            mask_train = np.ones((50000,), dtype=bool)\n",
    "            mask_train[p] = False\n",
    "            mask_val = np.zeros((50000,), dtype=bool)\n",
    "            mask_val[p] = True\n",
    "\n",
    "            copy_all_data = np.array(self.train_data)\n",
    "            self.val_data = np.array(copy_all_data[mask_val])\n",
    "            self.train_data = np.array(copy_all_data[mask_train])\n",
    "            \n",
    "            copy_all_labels = np.array(self.train_labels)\n",
    "            self.val_labels = np.array(copy_all_labels[mask_val])\n",
    "            self.train_labels = np.array(copy_all_labels[mask_train])\n",
    "\n",
    "        elif self.test:\n",
    "            f = self.test_list[0][0]\n",
    "            file = os.path.join(self.root, self.base_folder, f)\n",
    "            fo = open(file, 'rb')\n",
    "            if sys.version_info[0] == 2:\n",
    "                entry = pickle.load(fo)\n",
    "            else:\n",
    "                entry = pickle.load(fo, encoding='latin1')\n",
    "            self.test_data = entry['data']\n",
    "\n",
    "            if 'labels' in entry:\n",
    "                self.test_labels = entry['labels']\n",
    "            else:\n",
    "                self.test_labels = entry['fine_labels']\n",
    "            fo.close()\n",
    "            self.test_data = self.test_data.reshape((10000, 3, 32, 32))\n",
    "            self.test_data = self.test_data.transpose((0, 2, 3, 1))  # convert to HWC\n",
    "\n",
    "    def __getitem__(self, index):\n",
    "        \"\"\"\n",
    "        Args:\n",
    "            index (int): Index\n",
    "\n",
    "        Returns:\n",
    "            tuple: (image, target) where target is index of the target class.\n",
    "        \"\"\"\n",
    "        if self.train:\n",
    "            img, target = self.train_data[index], self.train_labels[index]\n",
    "        elif self.test:\n",
    "            img, target = self.test_data[index], self.test_labels[index]\n",
    "        elif self.val:\n",
    "            img, target = self.val_data[index], self.val_labels[index]\n",
    "\n",
    "        # doing this so that it is consistent with all other datasets\n",
    "        # to return a PIL Image\n",
    "        img = Image.fromarray(img)\n",
    "\n",
    "        if self.transform is not None:\n",
    "            img = self.transform(img)\n",
    "\n",
    "        if self.target_transform is not None:\n",
    "            target = self.target_transform(target)\n",
    "\n",
    "        return img, target\n",
    "\n",
    "    def __len__(self):\n",
    "        if self.train:\n",
    "            return len(self.train_data)\n",
    "        elif self.test:\n",
    "            return len(self.test_data)\n",
    "        elif self.val:\n",
    "            return len(self.val_data)\n",
    "\n",
    "    def _check_integrity(self):\n",
    "        root = self.root\n",
    "        for fentry in (self.train_list + self.test_list):\n",
    "            filename, md5 = fentry[0], fentry[1]\n",
    "            fpath = os.path.join(root, self.base_folder, filename)\n",
    "            if not check_integrity(fpath, md5):\n",
    "                return False\n",
    "        return True\n",
    "\n",
    "    def __repr__(self):\n",
    "        fmt_str = 'Dataset ' + self.__class__.__name__ + '\\n'\n",
    "        fmt_str += '    Number of datapoints: {}\\n'.format(self.__len__())\n",
    "        tmp = 'train' if self.train is True else 'test'\n",
    "        fmt_str += '    Split: {}\\n'.format(tmp)\n",
    "        fmt_str += '    Root Location: {}\\n'.format(self.root)\n",
    "        tmp = '    Transforms (if any): '\n",
    "        fmt_str += '{0}{1}\\n'.format(tmp, self.transform.__repr__().replace('\\n', '\\n' + ' ' * len(tmp)))\n",
    "        tmp = '    Target Transforms (if any): '\n",
    "        fmt_str += '{0}{1}'.format(tmp, self.target_transform.__repr__().replace('\\n', '\\n' + ' ' * len(tmp)))\n",
    "        return fmt_str\n",
    "\n",
    "\n",
    "class CIFAR100_SFU_CV(CIFAR10_SFU_CV):\n",
    "    \"\"\"`CIFAR100 <https://www.cs.toronto.edu/~kriz/cifar.html>`_ Dataset.\n",
    "\n",
    "    This is a subclass of the `CIFAR10` Dataset.\n",
    "    \"\"\"\n",
    "    base_folder = 'cifar100'\n",
    "    filename = \"cifar100.tar.gz\"\n",
    "    tgz_md5 = 'e68a4c763591787a0b39fe2209371f32'\n",
    "    train_list = [\n",
    "        ['train_cs543', '49eee854445c1e2ebe796cd93c20bb0f'],\n",
    "    ]\n",
    "\n",
    "    test_list = [\n",
    "        ['test_cs543', 'd3fe9f6a9251bd443f428f896d27384f'],\n",
    "    ]"
   ]
  },
  {
   "cell_type": "markdown",
   "metadata": {
    "colab_type": "text",
    "id": "JpFMv7HtcII4"
   },
   "source": [
    "This file has been adapted from the easy-to-use tutorial released by PyTorch:\n",
    "http://pytorch.org/tutorials/beginner/blitz/cifar10_tutorial.html\n",
    "\n",
    "Training an image classifier\n",
    "----------------------------\n",
    "\n",
    "We will do the following steps in order:\n",
    "\n",
    "1. Load the CIFAR100_SFU_CV training, validation and test datasets using\n",
    "   torchvision. Use torchvision.transforms to apply transforms on the\n",
    "   dataset.\n",
    "2. Define a Convolution Neural Network - BaseNet\n",
    "3. Define a loss function and optimizer\n",
    "4. Train the network on training data and check performance on val set.\n",
    "   Plot train loss and validation accuracies.\n",
    "5. Try the network on test data and create .csv file for submission to kaggle"
   ]
  },
  {
   "cell_type": "code",
   "execution_count": 6,
   "metadata": {
    "colab": {},
    "colab_type": "code",
    "id": "Ld6juH34dWWq"
   },
   "outputs": [],
   "source": [
    "# <<TODO#5>> Based on the val set performance, decide how many\n",
    "# epochs are apt for your model.\n",
    "# ---------\n",
    "EPOCHS = 100\n",
    "# ---------\n",
    "\n",
    "IS_GPU = True\n",
    "TEST_BS = 256\n",
    "TOTAL_CLASSES = 100\n",
    "TRAIN_BS = 32\n",
    "PATH_TO_CIFAR100_SFU_CV = \"data/\""
   ]
  },
  {
   "cell_type": "code",
   "execution_count": 7,
   "metadata": {
    "colab": {},
    "colab_type": "code",
    "id": "0ENlTTMi-qFD"
   },
   "outputs": [
    {
     "name": "stdout",
     "output_type": "stream",
     "text": [
      "test_cs543  train_cs543\r\n"
     ]
    }
   ],
   "source": [
    "ls data/cifar100/"
   ]
  },
  {
   "cell_type": "code",
   "execution_count": 8,
   "metadata": {
    "colab": {},
    "colab_type": "code",
    "id": "d57CSAj1dfix"
   },
   "outputs": [],
   "source": [
    "def calculate_val_accuracy(valloader, is_gpu):\n",
    "    \"\"\" Util function to calculate val set accuracy,\n",
    "    both overall and per class accuracy\n",
    "    Args:\n",
    "        valloader (torch.utils.data.DataLoader): val set \n",
    "        is_gpu (bool): whether to run on GPU\n",
    "    Returns:\n",
    "        tuple: (overall accuracy, class level accuracy)\n",
    "    \"\"\"    \n",
    "    correct = 0.\n",
    "    total = 0.\n",
    "    predictions = []\n",
    "\n",
    "    class_correct = list(0. for i in range(TOTAL_CLASSES))\n",
    "    class_total = list(0. for i in range(TOTAL_CLASSES))\n",
    "\n",
    "    for data in valloader:\n",
    "        images, labels = data\n",
    "        if is_gpu:\n",
    "            images = images.cuda()\n",
    "            labels = labels.cuda()\n",
    "        outputs = net(Variable(images))\n",
    "        _, predicted = torch.max(outputs.data, 1)\n",
    "        predictions.extend(list(predicted.cpu().numpy()))\n",
    "        total += labels.size(0)\n",
    "        correct += (predicted == labels).sum()\n",
    "\n",
    "        c = (predicted == labels).squeeze()\n",
    "        for i in range(len(labels)):\n",
    "            label = labels[i]\n",
    "            class_correct[label] += c[i]\n",
    "            class_total[label] += 1\n",
    "\n",
    "    class_accuracy = 100 * np.divide(class_correct, class_total)\n",
    "    return 100*correct/total, class_accuracy"
   ]
  },
  {
   "cell_type": "markdown",
   "metadata": {
    "colab_type": "text",
    "id": "aq2qOUaJeAWJ"
   },
   "source": [
    "1.** Loading CIFAR100_SFU_CV**\n",
    "\n",
    "We modify the dataset to create CIFAR100_SFU_CV dataset which consist of 45000 training images (450 of each class), 5000 validation images (50 of each class) and 10000 test images (100 of each class). The train and val datasets have labels while all the labels in the test set are set to 0.\n"
   ]
  },
  {
   "cell_type": "markdown",
   "metadata": {},
   "source": [
    "Calculate MEAN and Standard Deviation for CIFAR Dataset"
   ]
  },
  {
   "cell_type": "code",
   "execution_count": 8,
   "metadata": {},
   "outputs": [
    {
     "name": "stdout",
     "output_type": "stream",
     "text": [
      "Mean for RGB images:\t\t\t 0.5073615 0.48668912 0.4410893\n",
      "Standard Deviation for RGB images:\t 0.26748818 0.2565931 0.27630857\n"
     ]
    }
   ],
   "source": [
    "cifar100_train = CIFAR100_SFU_CV(root=PATH_TO_CIFAR100_SFU_CV, fold=\"train\", download=True, transform=transforms.ToTensor())\n",
    "cifar100_val = CIFAR100_SFU_CV(root=PATH_TO_CIFAR100_SFU_CV, fold=\"val\", download=True, transform=transforms.ToTensor())\n",
    "cifar100_test = CIFAR100_SFU_CV(root=PATH_TO_CIFAR100_SFU_CV, fold=\"test\", download=True, transform=transforms.ToTensor())\n",
    "\n",
    "cifar100 = torch.utils.data.ConcatDataset([cifar100_train, cifar100_val, cifar100_test])\n",
    "\n",
    "imgs = [item[0] for item in cifar100]  # item[0] and item[1] are image and its label\n",
    "imgs = torch.stack(imgs, dim=0).numpy()\n",
    "\n",
    "# calculate mean over each channel (r,g,b)\n",
    "print(\"Mean for RGB images:\\t\\t\\t\", imgs[:,0,:,:].mean(), imgs[:,1,:,:].mean(), imgs[:,2,:,:].mean())\n",
    "\n",
    "# calculate std over each channel (r,g,b)\n",
    "print(\"Standard Deviation for RGB images:\\t\", imgs[:,0,:,:].std(), imgs[:,1,:,:].std(), imgs[:,2,:,:].std())"
   ]
  },
  {
   "cell_type": "code",
   "execution_count": 9,
   "metadata": {
    "colab": {},
    "colab_type": "code",
    "id": "C2UcDZmtdfq3"
   },
   "outputs": [
    {
     "name": "stdout",
     "output_type": "stream",
     "text": [
      "Train set size: 45000\n",
      "Val set size: 5000\n",
      "Test set size: 10000\n"
     ]
    }
   ],
   "source": [
    "# The output of torchvision datasets are PILImage images of range [0, 1].\n",
    "# Using transforms.ToTensor(), transform them to Tensors of normalized range\n",
    "# [-1, 1].\n",
    "\n",
    "\n",
    "# <<TODO#1>> Use transforms.Normalize() with the right parameters to \n",
    "# make the data well conditioned (zero mean, std dev=1) for improved training.\n",
    "# <<TODO#2>> Try using transforms.RandomCrop() and/or transforms.RandomHorizontalFlip()\n",
    "# to augment training data.\n",
    "# After your edits, make sure that test_transform should have the same data\n",
    "# normalization parameters as train_transform\n",
    "# You shouldn't have any data augmentation in test_transform (val or test data is never augmented).\n",
    "# ---------------------\n",
    "\n",
    "train_transform = transforms.Compose(\n",
    "    [transforms.ToTensor(),\n",
    "     transforms.Normalize(mean=[0.5073615, 0.48668912, 0.4410893],\n",
    "                          std=[0.26748818, 0.2565931, 0.27630857]),\n",
    "    transforms.RandomCrop(size=32, padding=4),\n",
    "    transforms.RandomHorizontalFlip()])\n",
    "\n",
    "test_transform = transforms.Compose(\n",
    "    [transforms.ToTensor(),\n",
    "     transforms.Normalize(mean=[0.5073615, 0.48668912, 0.4410893],\n",
    "                          std=[0.26748818, 0.2565931, 0.27630857])])\n",
    "# ---------------------\n",
    "\n",
    "trainset = CIFAR100_SFU_CV(root=PATH_TO_CIFAR100_SFU_CV, fold=\"train\",\n",
    "                                        download=True, transform=train_transform)\n",
    "trainloader = torch.utils.data.DataLoader(trainset, batch_size=TRAIN_BS,\n",
    "                                          shuffle=True, num_workers=2)\n",
    "print(\"Train set size: \"+str(len(trainset)))\n",
    "\n",
    "valset = CIFAR100_SFU_CV(root=PATH_TO_CIFAR100_SFU_CV, fold=\"val\",\n",
    "                                       download=True, transform=test_transform)\n",
    "valloader = torch.utils.data.DataLoader(valset, batch_size=TEST_BS,\n",
    "                                         shuffle=False, num_workers=2)\n",
    "print(\"Val set size: \"+str(len(valset)))\n",
    "\n",
    "testset = CIFAR100_SFU_CV(root=PATH_TO_CIFAR100_SFU_CV, fold=\"test\",\n",
    "                                       download=True, transform=test_transform)\n",
    "testloader = torch.utils.data.DataLoader(testset, batch_size=TEST_BS,\n",
    "                                         shuffle=False, num_workers=2)\n",
    "print(\"Test set size: \"+str(len(testset)))\n",
    "\n",
    "# The 100 classes for CIFAR100\n",
    "classes = ['apple', 'aquarium_fish', 'baby', 'bear', 'beaver', 'bed', 'bee', 'beetle', 'bicycle', 'bottle', 'bowl', 'boy', 'bridge', 'bus', 'butterfly', 'camel', 'can', 'castle', 'caterpillar', 'cattle', 'chair', 'chimpanzee', 'clock', 'cloud', 'cockroach', 'couch', 'crab', 'crocodile', 'cup', 'dinosaur', 'dolphin', 'elephant', 'flatfish', 'forest', 'fox', 'girl', 'hamster', 'house', 'kangaroo', 'keyboard', 'lamp', 'lawn_mower', 'leopard', 'lion', 'lizard', 'lobster', 'man', 'maple_tree', 'motorcycle', 'mountain', 'mouse', 'mushroom', 'oak_tree', 'orange', 'orchid', 'otter', 'palm_tree', 'pear', 'pickup_truck', 'pine_tree', 'plain', 'plate', 'poppy', 'porcupine', 'possum', 'rabbit', 'raccoon', 'ray', 'road', 'rocket', 'rose', 'sea', 'seal', 'shark', 'shrew', 'skunk', 'skyscraper', 'snail', 'snake', 'spider', 'squirrel', 'streetcar', 'sunflower', 'sweet_pepper', 'table', 'tank', 'telephone', 'television', 'tiger', 'tractor', 'train', 'trout', 'tulip', 'turtle', 'wardrobe', 'whale', 'willow_tree', 'wolf', 'woman', 'worm']\n",
    "\n"
   ]
  },
  {
   "cell_type": "code",
   "execution_count": 13,
   "metadata": {
    "colab": {},
    "colab_type": "code",
    "id": "5b_fBznndp4W"
   },
   "outputs": [],
   "source": [
    "########################################################################\n",
    "# 2. Define a Convolution Neural Network\n",
    "# ^^^^^^^^^^^^^^^^^^^^^^^^^^^^^^^^^^^^^^\n",
    "# We provide a basic network that you should understand, run and\n",
    "# eventually improve\n",
    "# <<TODO>> Add more conv layers\n",
    "# <<TODO>> Add more fully connected (fc) layers\n",
    "# <<TODO>> Add regularization layers like Batchnorm.\n",
    "#          nn.BatchNorm2d after conv layers:\n",
    "#          http://pytorch.org/docs/master/nn.html#batchnorm2d\n",
    "#          nn.BatchNorm1d after fc layers:\n",
    "#          http://pytorch.org/docs/master/nn.html#batchnorm1d\n",
    "# This is a good resource for developing a CNN for classification:\n",
    "# http://cs231n.github.io/convolutional-networks/#layers\n",
    "\n",
    "import torch.nn as nn\n",
    "import torch.nn.functional as F\n",
    "\n",
    "class resNeXtBlock(nn.Module):\n",
    "    def __init__(self, in_channels, out_channels, stride, cardinality, base_width, widen_factor):\n",
    "        super(resNeXtBlock, self).__init__()\n",
    "        width_ratio = out_channels / (widen_factor * 64.)\n",
    "        D = cardinality * int(base_width * width_ratio)\n",
    "        self.conv_reduce = nn.Conv2d(in_channels, D, kernel_size=1, stride=1, padding=0, bias=False)\n",
    "        self.bn_reduce = nn.BatchNorm2d(D)\n",
    "        self.conv_conv = nn.Conv2d(D, D, kernel_size=3, stride=stride, padding=1, groups=cardinality, bias=False)\n",
    "        self.bn = nn.BatchNorm2d(D)\n",
    "        self.conv_expand = nn.Conv2d(D, out_channels, kernel_size=1, stride=1, padding=0, bias=False)\n",
    "        self.bn_expand = nn.BatchNorm2d(out_channels)\n",
    "\n",
    "        self.shortcut = nn.Sequential()\n",
    "        if in_channels != out_channels:\n",
    "            self.shortcut.add_module(\"shortcut_conv\",\n",
    "                                     nn.Conv2d(in_channels, out_channels, kernel_size=1, stride=stride, padding=0,\n",
    "                                               bias=False))\n",
    "            self.shortcut.add_module(\"shortcut_bn\", nn.BatchNorm2d(out_channels))\n",
    "\n",
    "    def forward(self, x):\n",
    "        bottleneck = self.conv_reduce.forward(x)\n",
    "        bottleneck = F.relu(self.bn_reduce.forward(bottleneck), inplace=True)\n",
    "        bottleneck = self.conv_conv.forward(bottleneck)\n",
    "        bottleneck = F.relu(self.bn.forward(bottleneck), inplace=True)\n",
    "        bottleneck = self.conv_expand.forward(bottleneck)\n",
    "        bottleneck = self.bn_expand.forward(bottleneck)\n",
    "        residual = self.shortcut.forward(x)\n",
    "        return F.relu(residual + bottleneck, inplace=True)\n",
    "\n",
    "class feature_extraction_block(nn.Module):\n",
    "    def __init__(self, in_channels, out_channels, kernel_size=3, padding=1):\n",
    "        super(feature_extraction_block, self).__init__()\n",
    "        # padding = \"same\" for torch >= 1.9.0\n",
    "        self.conv1 = nn.Conv2d(in_channels, out_channels, kernel_size, padding=padding)\n",
    "        self.batch1 = nn.BatchNorm2d(out_channels)\n",
    "        self.relu = nn.ReLU(inplace=True)\n",
    "\n",
    "        self.conv2 = nn.Conv2d(out_channels, out_channels, kernel_size, padding=padding)\n",
    "        self.batch2 = nn.BatchNorm2d(out_channels)\n",
    "        \n",
    "        self.residual = nn.Sequential()\n",
    "        \n",
    "        if in_channels != out_channels:\n",
    "            self.residual = nn.Sequential(nn.Conv2d(in_channels, out_channels, kernel_size=1),\n",
    "                                          nn.BatchNorm2d(out_channels))\n",
    "\n",
    "    def forward(self, x):\n",
    "        residual = self.residual(x)\n",
    "        out = self.conv1(x)\n",
    "        out = self.batch1(out)\n",
    "        out = self.relu(out)\n",
    "        \n",
    "        out = self.conv2(out)\n",
    "        out = self.batch2(out)\n",
    "        \n",
    "        out = torch.mul(out, 0.1)\n",
    "        out = torch.add(out, residual)\n",
    "        out = self.relu(out)\n",
    "\n",
    "        return out\n",
    "\n",
    "class BaseNet(nn.Module):\n",
    "    def __init__(self):\n",
    "        super(BaseNet, self).__init__()\n",
    "        kernel_size = 3\n",
    "        pool_size = 2\n",
    "        self.in_channels = 64\n",
    "        \n",
    "        # <<TODO#3>> Add more conv layers with increasing \n",
    "        # output channels\n",
    "        # <<TODO#4>> Add normalization layers after conv\n",
    "        # layers (nn.BatchNorm2d)\n",
    "\n",
    "        # Also experiment with kernel size in conv2d layers (say 3\n",
    "        # inspired from VGGNet)\n",
    "        # To keep it simple, keep the same kernel size\n",
    "        # (right now set to 5) in all conv layers.\n",
    "        # Do not have a maxpool layer after every conv layer in your\n",
    "        # deeper network as it leads to too much loss of information.\n",
    "        \n",
    "        self.input_conv = nn.Conv2d(3, 64, kernel_size=kernel_size, padding=1)\n",
    "        self.input_bn = nn.BatchNorm2d(64)\n",
    "        self.input_relu = nn.ReLU()\n",
    "\n",
    "        self.blocks1 = self.make_block(in_channels=64, out_channels=64, num_blocks=3, kernel_size=kernel_size)\n",
    "        self.blocks2 = self.make_block(in_channels=64, out_channels=128, num_blocks=4, kernel_size=kernel_size)\n",
    "        self.blocks3 = self.make_block(in_channels=128, out_channels=256, num_blocks=6, kernel_size=kernel_size)\n",
    "        self.blocks4 = self.make_block(in_channels=256, out_channels=512, num_blocks=3, kernel_size=kernel_size)\n",
    "        \n",
    "        self.pool = nn.MaxPool2d(pool_size, pool_size)\n",
    "\n",
    "        # <<TODO#3>> Add more linear (fc) layers\n",
    "        # <<TODO#4>> Add normalization layers after linear and\n",
    "        # experiment inserting them before or after ReLU (nn.BatchNorm1d)\n",
    "        # More on nn.sequential:\n",
    "        # http://pytorch.org/docs/master/nn.html#torch.nn.Sequential\n",
    "        \n",
    "        self.fc_net = nn.Sequential(\n",
    "            nn.Linear(512 * 16 * 16, TOTAL_CLASSES//2),\n",
    "            nn.ReLU(inplace=True),\n",
    "            nn.Linear(TOTAL_CLASSES//2, TOTAL_CLASSES),\n",
    "            nn.BatchNorm1d(TOTAL_CLASSES),\n",
    "        )\n",
    "\n",
    "    def forward(self, x):\n",
    "        # <<TODO#3&#4>> Based on the above edits, you'll have\n",
    "        # to edit the forward pass description here.\n",
    "        x = self.input_conv(x)\n",
    "        x = self.input_bn(x)\n",
    "        x = self.input_relu(x)\n",
    "\n",
    "        x = self.blocks1(x)\n",
    "        x = self.blocks2(x)\n",
    "        x = self.blocks3(x)\n",
    "        x = self.blocks4(x)\n",
    "        # 512, 32, 32 with batch=32\n",
    "\n",
    "        x = self.pool(x)\n",
    "\n",
    "        # See the CS231 link to understand why this is 16*5*5!\n",
    "        # This will help you design your own deeper network\n",
    "        # x.size(0): batch size = 32\n",
    "        x = x.view(x.size(0), -1)\n",
    "        x = self.fc_net(x)\n",
    "\n",
    "        # No softmax is needed as the loss function in step 3\n",
    "        # takes care of that\n",
    "        \n",
    "        return x\n",
    "    \n",
    "    def make_block(self, in_channels, out_channels, num_blocks, kernel_size=3):\n",
    "        resblocks = []\n",
    "        input_channels = in_channels\n",
    "        for _ in range(num_blocks):\n",
    "            resblocks.append(resNeXtBlock(in_channels, out_channels, stride=1, cardinality=32, base_width=4, widen_factor=1))\n",
    "            input_channels = out_channels\n",
    "        return nn.Sequential(*resblocks)\n",
    "\n",
    "# Create an instance of the nn.module class defined above:\n",
    "net = BaseNet()\n",
    "\n",
    "# For training on GPU, we need to transfer net and data onto the GPU\n",
    "# http://pytorch.org/tutorials/beginner/blitz/cifar10_tutorial.html#training-on-gpu\n",
    "if IS_GPU:\n",
    "    net = net.cuda()\n"
   ]
  },
  {
   "cell_type": "code",
   "execution_count": 14,
   "metadata": {
    "colab": {},
    "colab_type": "code",
    "id": "zAZjIcLOdp-W"
   },
   "outputs": [],
   "source": [
    "########################################################################\n",
    "# 3. Define a Loss function and optimizer\n",
    "# ^^^^^^^^^^^^^^^^^^^^^^^^^^^^^^^^^^^^^^^\n",
    "# Here we use Cross-Entropy loss and SGD with momentum.\n",
    "# The CrossEntropyLoss criterion already includes softmax within its\n",
    "# implementation. That's why we don't use a softmax in our model\n",
    "# definition.\n",
    "\n",
    "import torch.optim as optim\n",
    "criterion = nn.CrossEntropyLoss()\n",
    "\n",
    "# Tune the learning rate.\n",
    "# See whether the momentum is useful or not\n",
    "optimizer = optim.SGD(net.parameters(), lr=0.005, momentum=0.9)\n",
    "\n",
    "plt.ioff()\n",
    "fig = plt.figure()\n",
    "train_loss_over_epochs = []\n",
    "val_accuracy_over_epochs = []\n"
   ]
  },
  {
   "cell_type": "code",
   "execution_count": 15,
   "metadata": {
    "colab": {},
    "colab_type": "code",
    "id": "Ku7eF366dyUP",
    "scrolled": false
   },
   "outputs": [
    {
     "name": "stderr",
     "output_type": "stream",
     "text": [
      "/cvmfs/rcg.sfu.ca/sw/env/Ubuntu/20.04/amd64/TOOLS/PYTORCH/1.9.0-GPU-PY387/lib/python3.8/site-packages/torch/nn/functional.py:718: UserWarning: Named tensors and all their associated APIs are an experimental feature and subject to change. Please do not use them for anything important until they are released as stable. (Triggered internally at  /pytorch/c10/core/TensorImpl.h:1156.)\n",
      "  return torch.max_pool2d(input, kernel_size, stride, padding, dilation, ceil_mode)\n"
     ]
    },
    {
     "name": "stdout",
     "output_type": "stream",
     "text": [
      "[1] loss: 3.761\n",
      "Accuracy of the network on the val images: 24 %\n",
      "[2] loss: 3.204\n",
      "Accuracy of the network on the val images: 32 %\n",
      "[3] loss: 2.930\n",
      "Accuracy of the network on the val images: 36 %\n",
      "[4] loss: 2.757\n",
      "Accuracy of the network on the val images: 39 %\n",
      "[5] loss: 2.611\n",
      "Accuracy of the network on the val images: 41 %\n",
      "[6] loss: 2.508\n",
      "Accuracy of the network on the val images: 44 %\n",
      "[7] loss: 2.414\n",
      "Accuracy of the network on the val images: 44 %\n",
      "[8] loss: 2.347\n",
      "Accuracy of the network on the val images: 46 %\n",
      "[9] loss: 2.275\n",
      "Accuracy of the network on the val images: 48 %\n",
      "[10] loss: 2.213\n",
      "Accuracy of the network on the val images: 48 %\n",
      "[11] loss: 2.156\n",
      "Accuracy of the network on the val images: 49 %\n",
      "[12] loss: 2.104\n",
      "Accuracy of the network on the val images: 49 %\n",
      "[13] loss: 2.060\n",
      "Accuracy of the network on the val images: 50 %\n",
      "[14] loss: 2.017\n",
      "Accuracy of the network on the val images: 52 %\n",
      "[15] loss: 1.971\n",
      "Accuracy of the network on the val images: 52 %\n",
      "[16] loss: 1.935\n",
      "Accuracy of the network on the val images: 53 %\n",
      "[17] loss: 1.890\n",
      "Accuracy of the network on the val images: 53 %\n",
      "[18] loss: 1.848\n",
      "Accuracy of the network on the val images: 54 %\n",
      "[19] loss: 1.815\n",
      "Accuracy of the network on the val images: 55 %\n",
      "[20] loss: 1.777\n",
      "Accuracy of the network on the val images: 56 %\n",
      "[21] loss: 1.734\n",
      "Accuracy of the network on the val images: 55 %\n",
      "[22] loss: 1.699\n",
      "Accuracy of the network on the val images: 56 %\n",
      "[23] loss: 1.661\n",
      "Accuracy of the network on the val images: 57 %\n",
      "[24] loss: 1.633\n",
      "Accuracy of the network on the val images: 58 %\n",
      "[25] loss: 1.592\n",
      "Accuracy of the network on the val images: 57 %\n",
      "[26] loss: 1.554\n",
      "Accuracy of the network on the val images: 58 %\n",
      "[27] loss: 1.522\n",
      "Accuracy of the network on the val images: 58 %\n",
      "[28] loss: 1.487\n",
      "Accuracy of the network on the val images: 59 %\n",
      "[29] loss: 1.449\n",
      "Accuracy of the network on the val images: 59 %\n",
      "[30] loss: 1.417\n",
      "Accuracy of the network on the val images: 60 %\n",
      "[31] loss: 1.393\n",
      "Accuracy of the network on the val images: 60 %\n",
      "[32] loss: 1.364\n",
      "Accuracy of the network on the val images: 61 %\n",
      "[33] loss: 1.327\n",
      "Accuracy of the network on the val images: 61 %\n",
      "[34] loss: 1.296\n",
      "Accuracy of the network on the val images: 61 %\n",
      "[35] loss: 1.267\n",
      "Accuracy of the network on the val images: 62 %\n",
      "[36] loss: 1.233\n",
      "Accuracy of the network on the val images: 61 %\n",
      "[37] loss: 1.203\n",
      "Accuracy of the network on the val images: 61 %\n",
      "[38] loss: 1.170\n",
      "Accuracy of the network on the val images: 62 %\n",
      "[39] loss: 1.149\n",
      "Accuracy of the network on the val images: 62 %\n",
      "[40] loss: 1.118\n",
      "Accuracy of the network on the val images: 62 %\n",
      "[41] loss: 1.089\n",
      "Accuracy of the network on the val images: 62 %\n",
      "[42] loss: 1.064\n",
      "Accuracy of the network on the val images: 63 %\n",
      "[43] loss: 1.035\n",
      "Accuracy of the network on the val images: 63 %\n",
      "[44] loss: 1.001\n",
      "Accuracy of the network on the val images: 62 %\n",
      "[45] loss: 0.972\n",
      "Accuracy of the network on the val images: 63 %\n",
      "[46] loss: 0.950\n",
      "Accuracy of the network on the val images: 63 %\n",
      "[47] loss: 0.915\n",
      "Accuracy of the network on the val images: 62 %\n",
      "[48] loss: 0.897\n",
      "Accuracy of the network on the val images: 64 %\n",
      "[49] loss: 0.876\n",
      "Accuracy of the network on the val images: 63 %\n",
      "[50] loss: 0.845\n",
      "Accuracy of the network on the val images: 63 %\n",
      "[51] loss: 0.814\n",
      "Accuracy of the network on the val images: 64 %\n",
      "[52] loss: 0.788\n",
      "Accuracy of the network on the val images: 63 %\n",
      "[53] loss: 0.755\n",
      "Accuracy of the network on the val images: 63 %\n",
      "[54] loss: 0.738\n",
      "Accuracy of the network on the val images: 64 %\n",
      "[55] loss: 0.712\n",
      "Accuracy of the network on the val images: 64 %\n",
      "[56] loss: 0.691\n",
      "Accuracy of the network on the val images: 64 %\n",
      "[57] loss: 0.663\n",
      "Accuracy of the network on the val images: 63 %\n",
      "[58] loss: 0.642\n",
      "Accuracy of the network on the val images: 63 %\n",
      "[59] loss: 0.624\n",
      "Accuracy of the network on the val images: 64 %\n",
      "[60] loss: 0.604\n",
      "Accuracy of the network on the val images: 63 %\n",
      "[61] loss: 0.572\n",
      "Accuracy of the network on the val images: 65 %\n",
      "[62] loss: 0.554\n",
      "Accuracy of the network on the val images: 64 %\n",
      "[63] loss: 0.531\n",
      "Accuracy of the network on the val images: 63 %\n",
      "[64] loss: 0.519\n",
      "Accuracy of the network on the val images: 64 %\n",
      "[65] loss: 0.485\n",
      "Accuracy of the network on the val images: 64 %\n",
      "[66] loss: 0.481\n",
      "Accuracy of the network on the val images: 63 %\n",
      "[67] loss: 0.456\n",
      "Accuracy of the network on the val images: 63 %\n",
      "[68] loss: 0.440\n",
      "Accuracy of the network on the val images: 63 %\n",
      "[69] loss: 0.424\n",
      "Accuracy of the network on the val images: 64 %\n",
      "[70] loss: 0.401\n",
      "Accuracy of the network on the val images: 63 %\n",
      "[71] loss: 0.401\n",
      "Accuracy of the network on the val images: 63 %\n",
      "[72] loss: 0.374\n",
      "Accuracy of the network on the val images: 64 %\n",
      "[73] loss: 0.363\n",
      "Accuracy of the network on the val images: 63 %\n",
      "[74] loss: 0.342\n",
      "Accuracy of the network on the val images: 63 %\n",
      "[75] loss: 0.324\n",
      "Accuracy of the network on the val images: 64 %\n",
      "[76] loss: 0.312\n",
      "Accuracy of the network on the val images: 63 %\n",
      "[77] loss: 0.305\n",
      "Accuracy of the network on the val images: 64 %\n",
      "[78] loss: 0.295\n",
      "Accuracy of the network on the val images: 64 %\n",
      "[79] loss: 0.278\n",
      "Accuracy of the network on the val images: 64 %\n",
      "[80] loss: 0.272\n",
      "Accuracy of the network on the val images: 64 %\n",
      "[81] loss: 0.254\n",
      "Accuracy of the network on the val images: 63 %\n",
      "[82] loss: 0.247\n",
      "Accuracy of the network on the val images: 64 %\n",
      "[83] loss: 0.240\n",
      "Accuracy of the network on the val images: 64 %\n",
      "[84] loss: 0.227\n",
      "Accuracy of the network on the val images: 64 %\n",
      "[85] loss: 0.215\n",
      "Accuracy of the network on the val images: 64 %\n",
      "[86] loss: 0.220\n",
      "Accuracy of the network on the val images: 64 %\n",
      "[87] loss: 0.207\n",
      "Accuracy of the network on the val images: 63 %\n",
      "[88] loss: 0.193\n",
      "Accuracy of the network on the val images: 64 %\n",
      "[89] loss: 0.191\n",
      "Accuracy of the network on the val images: 63 %\n",
      "[90] loss: 0.179\n",
      "Accuracy of the network on the val images: 64 %\n",
      "[91] loss: 0.184\n",
      "Accuracy of the network on the val images: 64 %\n",
      "[92] loss: 0.163\n",
      "Accuracy of the network on the val images: 64 %\n",
      "[93] loss: 0.160\n",
      "Accuracy of the network on the val images: 63 %\n",
      "[94] loss: 0.157\n",
      "Accuracy of the network on the val images: 65 %\n",
      "[95] loss: 0.151\n",
      "Accuracy of the network on the val images: 64 %\n",
      "[96] loss: 0.144\n",
      "Accuracy of the network on the val images: 63 %\n",
      "[97] loss: 0.142\n",
      "Accuracy of the network on the val images: 64 %\n",
      "[98] loss: 0.135\n",
      "Accuracy of the network on the val images: 64 %\n",
      "[99] loss: 0.132\n",
      "Accuracy of the network on the val images: 64 %\n",
      "[100] loss: 0.123\n",
      "Accuracy of the network on the val images: 64 %\n",
      "Finished Training\n"
     ]
    }
   ],
   "source": [
    "########################################################################\n",
    "# 4. Train the network\n",
    "# ^^^^^^^^^^^^^^^^^^^^\n",
    "#\n",
    "# We simply have to loop over our data iterator, and feed the inputs to the\n",
    "# network and optimize. We evaluate the validation accuracy at each\n",
    "# epoch and plot these values over the number of epochs\n",
    "# Nothing to change here\n",
    "# -----------------------------\n",
    "for epoch in range(EPOCHS):  # loop over the dataset multiple times\n",
    "\n",
    "    running_loss = 0.0\n",
    "    for i, data in enumerate(trainloader, 0):\n",
    "        # get the inputs\n",
    "        inputs, labels = data\n",
    "\n",
    "        if IS_GPU:\n",
    "            inputs = inputs.cuda()\n",
    "            labels = labels.cuda()\n",
    "\n",
    "        # wrap them in Variable\n",
    "        inputs, labels = Variable(inputs), Variable(labels)\n",
    "\n",
    "        # zero the parameter gradients\n",
    "        optimizer.zero_grad()\n",
    "\n",
    "        # forward + backward + optimize\n",
    "        outputs = net(inputs)\n",
    "        loss = criterion(outputs, labels)\n",
    "        loss.backward()\n",
    "        optimizer.step()\n",
    "\n",
    "        # print statistics\n",
    "        running_loss += loss.item()\n",
    "    \n",
    "    # Normalizing the loss by the total number of train batches\n",
    "    running_loss/=len(trainloader)\n",
    "    print('[%d] loss: %.3f' %\n",
    "          (epoch + 1, running_loss))\n",
    "\n",
    "    # Scale of 0.0 to 100.0\n",
    "    # Calculate validation set accuracy of the existing model\n",
    "    val_accuracy, val_classwise_accuracy = \\\n",
    "        calculate_val_accuracy(valloader, IS_GPU)\n",
    "    print('Accuracy of the network on the val images: %d %%' % (val_accuracy))\n",
    "\n",
    "    # # Optionally print classwise accuracies\n",
    "    # for c_i in range(TOTAL_CLASSES):\n",
    "    #     print('Accuracy of %5s : %2d %%' % (\n",
    "    #         classes[c_i], 100 * val_classwise_accuracy[c_i]))\n",
    "\n",
    "    train_loss_over_epochs.append(running_loss)\n",
    "    val_accuracy_over_epochs.append(val_accuracy)\n",
    "# -----------------------------\n",
    "\n",
    "\n",
    "# Plot train loss over epochs and val set accuracy over epochs\n",
    "# Nothing to change here\n",
    "# -------------\n",
    "plt.subplot(2, 1, 1)\n",
    "plt.ylabel('Train loss')\n",
    "plt.plot(np.arange(EPOCHS), train_loss_over_epochs, 'k-')\n",
    "plt.title('train loss and val accuracy')\n",
    "plt.xticks(np.arange(EPOCHS, dtype=int))\n",
    "plt.grid(True)\n",
    "\n",
    "plt.subplot(2, 1, 2)\n",
    "plt.plot(np.arange(EPOCHS), val_accuracy_over_epochs, 'b-')\n",
    "plt.ylabel('Val accuracy')\n",
    "plt.xlabel('Epochs')\n",
    "plt.xticks(np.arange(EPOCHS, dtype=int))\n",
    "plt.grid(True)\n",
    "plt.savefig(\"plot.png\")\n",
    "plt.close(fig)\n",
    "print('Finished Training')\n",
    "# -------------"
   ]
  },
  {
   "cell_type": "code",
   "execution_count": 16,
   "metadata": {
    "colab": {},
    "colab_type": "code",
    "id": "v1GE8t3mRdy9"
   },
   "outputs": [],
   "source": [
    "########################################################################\n",
    "# 5. Try the network on test data, and create .csv file\n",
    "# ^^^^^^^^^^^^^^^^^^^^^^^^^^^^^^^^^^^^^^^^^^^^^^^^^^^^^\n",
    "########################################################################\n",
    "\n",
    "# Check out why .eval() is important!\n",
    "# https://discuss.pytorch.org/t/model-train-and-model-eval-vs-model-and-model-eval/5744/2\n",
    "net.eval()\n",
    "\n",
    "total = 0\n",
    "predictions = []\n",
    "for data in testloader:\n",
    "    images, labels = data\n",
    "\n",
    "    # For training on GPU, we need to transfer net and data onto the GPU\n",
    "    # http://pytorch.org/tutorials/beginner/blitz/cifar10_tutorial.html#training-on-gpu\n",
    "    if IS_GPU:\n",
    "        images = images.cuda()\n",
    "        labels = labels.cuda()\n",
    "    \n",
    "    outputs = net(Variable(images))\n",
    "    _, predicted = torch.max(outputs.data, 1)\n",
    "    predictions.extend(list(predicted.cpu().numpy()))\n",
    "    total += labels.size(0)\n",
    "\n",
    "with open('submission_netid.csv', 'w') as csvfile:\n",
    "    wr = csv.writer(csvfile, quoting=csv.QUOTE_ALL)\n",
    "    wr.writerow([\"Id\", \"Prediction1\"])\n",
    "    for l_i, label in enumerate(predictions):\n",
    "        wr.writerow([str(l_i), str(label)])\n"
   ]
  },
  {
   "cell_type": "markdown",
   "metadata": {
    "colab_type": "text",
    "id": "og2F2MLhs7L6"
   },
   "source": [
    "# Part 2"
   ]
  },
  {
   "cell_type": "code",
   "execution_count": 12,
   "metadata": {
    "colab": {},
    "colab_type": "code",
    "id": "prD0eXGpdoCR"
   },
   "outputs": [],
   "source": [
    "\"\"\"Headers\"\"\"\n",
    "import os\n",
    "import os.path as osp\n",
    "import time\n",
    "\n",
    "%matplotlib inline\n",
    "import matplotlib.pyplot as plt\n",
    "\n",
    "import torch\n",
    "import torch.nn as nn\n",
    "import torchvision.models as models\n",
    "import torch.optim as optim\n",
    "\n",
    "from torchvision import datasets"
   ]
  },
  {
   "cell_type": "markdown",
   "metadata": {
    "colab_type": "text",
    "id": "P6CJz7OM0J9Z"
   },
   "source": [
    "# Pre-Trained Model\n",
    "\n",
    "TODO1. Load pretrained resnet model. Experiment with different models. \n",
    "\n",
    "TODO2: Replace last fc layer\n",
    "\n",
    "TODO3. Forward pass"
   ]
  },
  {
   "cell_type": "code",
   "execution_count": 13,
   "metadata": {
    "colab": {},
    "colab_type": "code",
    "id": "HUdo6AkH0maX"
   },
   "outputs": [],
   "source": [
    "class PreTrainedResNet(nn.Module):\n",
    "    def __init__(self, num_classes, feature_extracting):\n",
    "        super(PreTrainedResNet, self).__init__()\n",
    "    \n",
    "        #TODO1: Load pre-trained ResNet Model\n",
    "        self.resnet18 = models.resnet18(pretrained=True)\n",
    "        \n",
    "        #Set gradients to false\n",
    "        if feature_extracting:\n",
    "            for param in self.resnet18.parameters():\n",
    "                param.requires_grad = False\n",
    "                \n",
    "        #Replace last fc layer\n",
    "        num_feats = self.resnet18.fc.in_features\n",
    "        \n",
    "        #TODO2: Replace fc layer in resnet to a linear layer of size (num_feats, num_classes)\n",
    "        self.resnet18.fc = nn.Linear(num_feats, num_classes)\n",
    "\n",
    "    def forward(self, x):\n",
    "        #TODO3: Forward pass x through the model\n",
    "        x = self.resnet18(x)\n",
    "        return x"
   ]
  },
  {
   "cell_type": "markdown",
   "metadata": {
    "colab_type": "text",
    "id": "Y_DRbNt8Jask"
   },
   "source": [
    "# Train"
   ]
  },
  {
   "cell_type": "code",
   "execution_count": 14,
   "metadata": {
    "colab": {},
    "colab_type": "code",
    "id": "ujUNEVsEvWwv"
   },
   "outputs": [],
   "source": [
    "def train(model, optimizer, criterion, epoch, num_epochs):\n",
    "    model.train()\n",
    "    epoch_loss = 0.0\n",
    "    epoch_acc = 0.0\n",
    "    for batch_idx, (images, labels) in enumerate(dataloaders['train']):\n",
    "        #zero the parameter gradients\n",
    "        optimizer.zero_grad()\n",
    "        \n",
    "        # move to GPU\n",
    "        images, labels = images.cuda(), labels.cuda()\n",
    "        \n",
    "        # forward\n",
    "        outputs = model.forward(images)\n",
    "        \n",
    "        loss = criterion(outputs, labels)\n",
    "\n",
    "        _, preds = torch.max(outputs.data, 1)\n",
    "        loss.backward()\n",
    "        optimizer.step()\n",
    "        \n",
    "        epoch_loss += loss.item()\n",
    "        epoch_acc += torch.sum(preds == labels).item()\n",
    "    \n",
    "    epoch_loss /= dataset_sizes['train']\n",
    "    epoch_acc /= dataset_sizes['train']\n",
    "    \n",
    "    print('TRAINING Epoch %d/%d Loss %.4f Accuracy %.4f' % (epoch, num_epochs, epoch_loss, epoch_acc))"
   ]
  },
  {
   "cell_type": "markdown",
   "metadata": {
    "colab_type": "text",
    "id": "mAbNgE4r7vm-"
   },
   "source": [
    "# Main\n",
    "\n",
    "1. Vary hyperparams\n",
    "2. Data augmentation"
   ]
  },
  {
   "cell_type": "code",
   "execution_count": 18,
   "metadata": {
    "colab": {},
    "colab_type": "code",
    "id": "oZkI3scVWjOQ"
   },
   "outputs": [
    {
     "name": "stdout",
     "output_type": "stream",
     "text": [
      "TRAINING Epoch 1/30 Loss 0.1687 Accuracy 0.0067\n",
      "TRAINING Epoch 2/30 Loss 0.1579 Accuracy 0.0323\n",
      "TRAINING Epoch 3/30 Loss 0.1480 Accuracy 0.1130\n",
      "TRAINING Epoch 4/30 Loss 0.1382 Accuracy 0.2143\n",
      "TRAINING Epoch 5/30 Loss 0.1283 Accuracy 0.3230\n",
      "TRAINING Epoch 6/30 Loss 0.1189 Accuracy 0.4113\n",
      "TRAINING Epoch 7/30 Loss 0.1104 Accuracy 0.4743\n",
      "TRAINING Epoch 8/30 Loss 0.1026 Accuracy 0.5310\n",
      "TRAINING Epoch 9/30 Loss 0.0956 Accuracy 0.5797\n",
      "TRAINING Epoch 10/30 Loss 0.0891 Accuracy 0.6233\n",
      "TRAINING Epoch 11/30 Loss 0.0834 Accuracy 0.6753\n",
      "TRAINING Epoch 12/30 Loss 0.0778 Accuracy 0.7060\n",
      "TRAINING Epoch 13/30 Loss 0.0726 Accuracy 0.7293\n",
      "TRAINING Epoch 14/30 Loss 0.0688 Accuracy 0.7420\n",
      "TRAINING Epoch 15/30 Loss 0.0641 Accuracy 0.7730\n",
      "TRAINING Epoch 16/30 Loss 0.0597 Accuracy 0.7990\n",
      "TRAINING Epoch 17/30 Loss 0.0564 Accuracy 0.8067\n",
      "TRAINING Epoch 18/30 Loss 0.0531 Accuracy 0.8327\n",
      "TRAINING Epoch 19/30 Loss 0.0497 Accuracy 0.8427\n",
      "TRAINING Epoch 20/30 Loss 0.0466 Accuracy 0.8560\n",
      "TRAINING Epoch 21/30 Loss 0.0440 Accuracy 0.8693\n",
      "TRAINING Epoch 22/30 Loss 0.0413 Accuracy 0.8850\n",
      "TRAINING Epoch 23/30 Loss 0.0395 Accuracy 0.8833\n",
      "TRAINING Epoch 24/30 Loss 0.0373 Accuracy 0.8890\n",
      "TRAINING Epoch 25/30 Loss 0.0348 Accuracy 0.9070\n",
      "TRAINING Epoch 26/30 Loss 0.0327 Accuracy 0.9150\n",
      "TRAINING Epoch 27/30 Loss 0.0309 Accuracy 0.9260\n",
      "TRAINING Epoch 28/30 Loss 0.0291 Accuracy 0.9290\n",
      "TRAINING Epoch 29/30 Loss 0.0278 Accuracy 0.9343\n",
      "TRAINING Epoch 30/30 Loss 0.0263 Accuracy 0.9457\n",
      "Finished Training\n",
      "----------\n"
     ]
    }
   ],
   "source": [
    "#TODO: Vary Hyperparams\n",
    "\n",
    "NUM_EPOCHS = 30\n",
    "LEARNING_RATE = 0.0005\n",
    "BATCH_SIZE = 32\n",
    "RESNET_LAST_ONLY = False #Fine tunes only the last layer. Set to False to fine tune entire network\n",
    "\n",
    "root_path = 'data/' #If your data is in a different folder, set the path accodordingly\n",
    "\n",
    "data_transforms = {\n",
    "    'train': transforms.Compose([\n",
    "        transforms.Resize(256),\n",
    "        transforms.CenterCrop(224),\n",
    "        #TODO: Transforms.RandomResizedCrop() instead of CenterCrop(), RandomRoate() and Horizontal Flip()\n",
    "        transforms.RandomResizedCrop(224, scale=(0.8, 1.0), ratio=(4/5, 6/5)),\n",
    "        transforms.RandomHorizontalFlip(),\n",
    "        transforms.ToTensor(),\n",
    "        #TODO: Transforms.Normalize()\n",
    "        transforms.Normalize(mean=[0.5073615, 0.48668912, 0.4410893],\n",
    "                             std=[0.26748818, 0.2565931, 0.27630857])\n",
    "    ]),\n",
    "    'test': transforms.Compose([\n",
    "        transforms.Resize(256),\n",
    "        transforms.CenterCrop(224),\n",
    "        transforms.ToTensor(),\n",
    "        #TODO: Transforms.Normalize()\n",
    "        transforms.Normalize(mean=[0.5073615, 0.48668912, 0.4410893],\n",
    "                             std=[0.26748818, 0.2565931, 0.27630857])\n",
    "    ]),\n",
    "}\n",
    "\n",
    "# loading datasets with PyTorch ImageFolder\n",
    "image_datasets = {x: datasets.ImageFolder(os.path.join(root_path, x), data_transforms[x])\n",
    "                  for x in ['train', 'test']}\n",
    "\n",
    "# defining data loaders to load data using image_datasets and transforms, here we also specify batch size for the mini batch\n",
    "dataloaders = {x: torch.utils.data.DataLoader(image_datasets[x], batch_size=BATCH_SIZE, shuffle=True, num_workers=4)\n",
    "               for x in ['train', 'test']}\n",
    "\n",
    "dataset_sizes = {x: len(image_datasets[x]) for x in ['train', 'test']}\n",
    "class_names = image_datasets['train'].classes\n",
    "\n",
    "#Initialize the model\n",
    "model = PreTrainedResNet(len(class_names), RESNET_LAST_ONLY)\n",
    "model = model.cuda()\n",
    "\n",
    "#Setting the optimizer and loss criterion\n",
    "optimizer = optim.SGD(model.parameters(), lr=LEARNING_RATE, momentum=0.9)\n",
    "criterion = nn.CrossEntropyLoss()\n",
    "\n",
    "#Begin Train\n",
    "for epoch in range(NUM_EPOCHS):\n",
    "    train(model, optimizer, criterion, epoch+1, NUM_EPOCHS)\n",
    "\n",
    "print(\"Finished Training\")\n",
    "print(\"-\"*10)"
   ]
  },
  {
   "cell_type": "markdown",
   "metadata": {
    "colab_type": "text",
    "id": "DEbsnh3a7ljw"
   },
   "source": [
    "# Test"
   ]
  },
  {
   "cell_type": "code",
   "execution_count": 19,
   "metadata": {
    "colab": {},
    "colab_type": "code",
    "id": "4wyYKmQ91woU"
   },
   "outputs": [],
   "source": [
    "def test(model, criterion, repeats=2):\n",
    "    model.eval()\n",
    "    \n",
    "    test_loss = 0.0\n",
    "    test_acc = 0.0\n",
    "    \n",
    "    with torch.no_grad():\n",
    "        for itr in range(repeats):\n",
    "            for batch_idx, (images, labels) in enumerate(dataloaders['test']):\n",
    "                #move to GPU\n",
    "                images, labels = images.cuda(), labels.cuda()\n",
    "                \n",
    "                #forward\n",
    "                outputs = model.forward(images)\n",
    "                \n",
    "                loss = criterion(outputs, labels)\n",
    "                \n",
    "                _, preds = torch.max(outputs.data, 1)\n",
    "                \n",
    "                test_loss += loss.item()\n",
    "                test_acc += torch.sum(preds == labels).item()\n",
    "                \n",
    "        test_loss /= (dataset_sizes['test']*repeats)\n",
    "        test_acc /= (dataset_sizes['test']*repeats)\n",
    "        print('Test Loss: %.4f Test Accuracy %.4f' % (test_loss, test_acc))\n"
   ]
  },
  {
   "cell_type": "code",
   "execution_count": 20,
   "metadata": {
    "colab": {},
    "colab_type": "code",
    "id": "znXWR6oWyl-B"
   },
   "outputs": [
    {
     "name": "stdout",
     "output_type": "stream",
     "text": [
      "Test Loss: 0.0603 Test Accuracy 0.5631\n"
     ]
    }
   ],
   "source": [
    "test(model, criterion)"
   ]
  },
  {
   "cell_type": "markdown",
   "metadata": {
    "colab_type": "text",
    "id": "kNX2g3AYUbM2"
   },
   "source": [
    "# Visualizing the model predictions\n",
    "\n",
    "Only for viusalizing. Nothing to be done here. "
   ]
  },
  {
   "cell_type": "code",
   "execution_count": 69,
   "metadata": {
    "colab": {},
    "colab_type": "code",
    "id": "Zd_lkTdoUaOX"
   },
   "outputs": [],
   "source": [
    "def imshow(inp, title=None):\n",
    "    \"\"\"Imshow for Tensor.\"\"\"\n",
    "    inp = inp.numpy().transpose((1, 2, 0))\n",
    "    inp = np.clip(inp, 0, 1)\n",
    "    plt.imshow(inp)\n",
    "    if title is not None:\n",
    "        plt.title(title)\n",
    "    plt.pause(1)  # pause a bit so that plots are updated\n",
    "    \n",
    "def visualize_model(model, num_images=8):\n",
    "    images_so_far = 0\n",
    "    fig = plt.figure()\n",
    "\n",
    "    for batch_idx, (images, labels) in enumerate(dataloaders['test']):\n",
    "        #move to GPU\n",
    "        images, labels = images.cuda(), labels.cuda()\n",
    "        \n",
    "        outputs = model(images)\n",
    "        \n",
    "        _, preds = torch.max(outputs.data, 1)\n",
    "       \n",
    "\n",
    "        for j in range(images.size()[0]):\n",
    "            images_so_far += 1\n",
    "            ax = plt.subplot(num_images//2, 2, images_so_far)\n",
    "            ax.axis('off')\n",
    "            ax.set_title('class: {} predicted: {}'.format(class_names[labels.data[j]], class_names[preds[j]]))\n",
    "\n",
    "            imshow(images.cpu().data[j])\n",
    "\n",
    "            if images_so_far == num_images:\n",
    "                return"
   ]
  },
  {
   "cell_type": "code",
   "execution_count": 70,
   "metadata": {
    "colab": {},
    "colab_type": "code",
    "id": "sxjSnLKOJsTW"
   },
   "outputs": [
    {
     "data": {
      "image/png": "[encoded data removed]",
      "text/plain": [
       "<Figure size 432x288 with 1 Axes>"
      ]
     },
     "metadata": {
      "needs_background": "light"
     },
     "output_type": "display_data"
    },
    {
     "data": {
      "image/png": "[encoded data removed]",
      "text/plain": [
       "<Figure size 432x288 with 1 Axes>"
      ]
     },
     "metadata": {
      "needs_background": "light"
     },
     "output_type": "display_data"
    },
    {
     "data": {
      "image/png": "[encoded data removed]",
      "text/plain": [
       "<Figure size 432x288 with 1 Axes>"
      ]
     },
     "metadata": {
      "needs_background": "light"
     },
     "output_type": "display_data"
    },
    {
     "data": {
      "image/png": "[encoded data removed]",
      "text/plain": [
       "<Figure size 432x288 with 1 Axes>"
      ]
     },
     "metadata": {
      "needs_background": "light"
     },
     "output_type": "display_data"
    },
    {
     "data": {
      "image/png": "[encoded data removed]",
      "text/plain": [
       "<Figure size 432x288 with 1 Axes>"
      ]
     },
     "metadata": {
      "needs_background": "light"
     },
     "output_type": "display_data"
    },
    {
     "data": {
      "image/png": "[encoded data removed]",
      "text/plain": [
       "<Figure size 432x288 with 1 Axes>"
      ]
     },
     "metadata": {
      "needs_background": "light"
     },
     "output_type": "display_data"
    },
    {
     "data": {
      "image/png": "[encoded data removed]",
      "text/plain": [
       "<Figure size 432x288 with 1 Axes>"
      ]
     },
     "metadata": {
      "needs_background": "light"
     },
     "output_type": "display_data"
    },
    {
     "data": {
      "image/png": "[encoded data removed]",
      "text/plain": [
       "<Figure size 432x288 with 1 Axes>"
      ]
     },
     "metadata": {
      "needs_background": "light"
     },
     "output_type": "display_data"
    }
   ],
   "source": [
    "visualize_model(model)"
   ]
  }
 ],
 "metadata": {
  "accelerator": "GPU",
  "colab": {
   "collapsed_sections": [],
   "name": "lab2.ipynb",
   "provenance": []
  },
  "kernelspec": {
   "display_name": "Python 3 (ipykernel)",
   "language": "python",
   "name": "python3"
  },
  "language_info": {
   "codemirror_mode": {
    "name": "ipython",
    "version": 3
   },
   "file_extension": ".py",
   "mimetype": "text/x-python",
   "name": "python",
   "nbconvert_exporter": "python",
   "pygments_lexer": "ipython3",
   "version": "3.8.7"
  }
 },
 "nbformat": 4,
 "nbformat_minor": 1
}
